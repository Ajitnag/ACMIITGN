{
  "nbformat": 4,
  "nbformat_minor": 0,
  "metadata": {
    "colab": {
      "name": "GenerativeNetwork_ACMIKDD_Summer_FMNIST.ipynb",
      "provenance": [],
      "collapsed_sections": [],
      "include_colab_link": true
    },
    "kernelspec": {
      "name": "python3",
      "display_name": "Python 3"
    },
    "language_info": {
      "name": "python"
    },
    "accelerator": "GPU",
    "gpuClass": "standard"
  },
  "cells": [
    {
      "cell_type": "markdown",
      "metadata": {
        "id": "view-in-github",
        "colab_type": "text"
      },
      "source": [
        "<a href=\"https://colab.research.google.com/github/Ajitnag/ACMIITGN/blob/main/GenerativeNetwork_ACMIKDD_Summer_FMNIST.ipynb\" target=\"_parent\"><img src=\"https://colab.research.google.com/assets/colab-badge.svg\" alt=\"Open In Colab\"/></a>"
      ]
    },
    {
      "cell_type": "markdown",
      "source": [
        "# Generative Networks"
      ],
      "metadata": {
        "id": "M6jDNTsZyFyJ"
      }
    },
    {
      "cell_type": "markdown",
      "source": [
        "## Importing all the libraries"
      ],
      "metadata": {
        "id": "FSx5alax2hMM"
      }
    },
    {
      "cell_type": "code",
      "source": [
        "import numpy as np\n",
        "import tensorflow as tf\n",
        "from tensorflow.keras import Model, layers, losses\n",
        "import matplotlib.pyplot as plt\n",
        "from matplotlib import style\n",
        "from tqdm import tqdm\n",
        "style.use('seaborn')\n",
        "\n",
        "np.random.seed(3407)\n",
        "tf.random.set_seed(3407)"
      ],
      "metadata": {
        "id": "gBc8jaRW0emR"
      },
      "execution_count": null,
      "outputs": []
    },
    {
      "cell_type": "markdown",
      "source": [
        "## Parameters"
      ],
      "metadata": {
        "id": "DqcJBYHP3PUQ"
      }
    },
    {
      "cell_type": "code",
      "source": [
        "batch_size    = 128\n",
        "latent_dim    = 128"
      ],
      "metadata": {
        "id": "A1HMHNok3UCX"
      },
      "execution_count": null,
      "outputs": []
    },
    {
      "cell_type": "code",
      "source": [
        "# !rm -rf 'experiments'"
      ],
      "metadata": {
        "id": "ayzgLpCwoQhY"
      },
      "execution_count": null,
      "outputs": []
    },
    {
      "cell_type": "markdown",
      "source": [
        "## Data Processing"
      ],
      "metadata": {
        "id": "89tGcfW42oal"
      }
    },
    {
      "cell_type": "code",
      "source": [
        "(X_train, Y_train), (X_test, Y_test) = tf.keras.datasets.fashion_mnist.load_data()\n",
        "\n",
        "print(X_train.shape, Y_train.shape)\n",
        "print(X_test.shape, Y_test.shape)"
      ],
      "metadata": {
        "id": "vr11nOyn1_wA",
        "colab": {
          "base_uri": "https://localhost:8080/"
        },
        "outputId": "72571bb4-205b-4930-f095-f0d62c372397"
      },
      "execution_count": null,
      "outputs": [
        {
          "output_type": "stream",
          "name": "stdout",
          "text": [
            "Downloading data from https://storage.googleapis.com/tensorflow/tf-keras-datasets/train-labels-idx1-ubyte.gz\n",
            "32768/29515 [=================================] - 0s 1us/step\n",
            "40960/29515 [=========================================] - 0s 1us/step\n",
            "Downloading data from https://storage.googleapis.com/tensorflow/tf-keras-datasets/train-images-idx3-ubyte.gz\n",
            "26427392/26421880 [==============================] - 0s 0us/step\n",
            "26435584/26421880 [==============================] - 0s 0us/step\n",
            "Downloading data from https://storage.googleapis.com/tensorflow/tf-keras-datasets/t10k-labels-idx1-ubyte.gz\n",
            "16384/5148 [===============================================================================================] - 0s 0us/step\n",
            "Downloading data from https://storage.googleapis.com/tensorflow/tf-keras-datasets/t10k-images-idx3-ubyte.gz\n",
            "4423680/4422102 [==============================] - 0s 0us/step\n",
            "4431872/4422102 [==============================] - 0s 0us/step\n",
            "(60000, 28, 28) (60000,)\n",
            "(10000, 28, 28) (10000,)\n"
          ]
        }
      ]
    },
    {
      "cell_type": "code",
      "source": [
        "X_train = np.expand_dims(X_train, axis=-1)\n",
        "X_train = np.concatenate([X_train, X_train, X_train], axis=-1)\n",
        "print(X_train.shape)"
      ],
      "metadata": {
        "colab": {
          "base_uri": "https://localhost:8080/"
        },
        "id": "bHSZHeuApVuH",
        "outputId": "45fdd0e6-e1cf-457c-8d1b-b336cabbac9e"
      },
      "execution_count": null,
      "outputs": [
        {
          "output_type": "stream",
          "name": "stdout",
          "text": [
            "(60000, 28, 28, 3)\n"
          ]
        }
      ]
    },
    {
      "cell_type": "code",
      "source": [
        "X_train = (np.float32(X_train) - 127.5) / 127.5"
      ],
      "metadata": {
        "id": "ANDGQcox5AUa"
      },
      "execution_count": null,
      "outputs": []
    },
    {
      "cell_type": "code",
      "source": [
        "def custom_resize(X, Y):\n",
        "    return (tf.image.resize(X, (32, 32)), Y)\n",
        "\n",
        "def get_batch(X, Y, batch_size):\n",
        "    return tf.data.Dataset.from_tensor_slices((X, Y)).map(custom_resize).shuffle(buffer_size=2*batch_size).batch(batch_size)\n",
        "\n",
        "train_batch = get_batch(X_train, Y_train, batch_size)"
      ],
      "metadata": {
        "id": "j-M8wrLt2SoQ"
      },
      "execution_count": null,
      "outputs": []
    },
    {
      "cell_type": "code",
      "source": [
        "X, Y = next(iter(train_batch))\n",
        "print(X.shape, Y.shape)"
      ],
      "metadata": {
        "colab": {
          "base_uri": "https://localhost:8080/"
        },
        "id": "-K9nbaR04z8V",
        "outputId": "a9907514-599e-4577-ec06-8d8333428600"
      },
      "execution_count": null,
      "outputs": [
        {
          "output_type": "stream",
          "name": "stdout",
          "text": [
            "(128, 32, 32, 3) (128,)\n"
          ]
        }
      ]
    },
    {
      "cell_type": "code",
      "source": [
        "\n",
        "def show_batch_images(X):\n",
        "    X = np.clip( np.uint8( ((X.numpy() * 0.5) + 0.5) * 255 ), 0, 255)\n",
        "    X = X[:16]\n",
        "    col = 4\n",
        "    row = X.shape[0] // col\n",
        "    for r in range(row):\n",
        "        for c in range(col):\n",
        "            plt.subplot2grid((row, col), (r, c), rowspan=1, colspan=1)\n",
        "            plt.grid('off')\n",
        "            plt.axis('off')\n",
        "            plt.imshow(X[r*col+c])\n",
        "    plt.show()\n",
        "\n",
        "show_batch_images(X)"
      ],
      "metadata": {
        "colab": {
          "base_uri": "https://localhost:8080/",
          "height": 248
        },
        "id": "lxR0caYq5OZ7",
        "outputId": "d9013f10-0a5a-4d39-a2b6-4f095c175102"
      },
      "execution_count": null,
      "outputs": [
        {
          "output_type": "display_data",
          "data": {
            "text/plain": [
              "<Figure size 432x288 with 16 Axes>"
            ],
            "image/png": "[encoded data removed]"
          },
          "metadata": {
            "needs_background": "light"
          }
        }
      ]
    },
    {
      "cell_type": "markdown",
      "source": [
        "## GAN Network"
      ],
      "metadata": {
        "id": "-sHEV15H-hUD"
      }
    },
    {
      "cell_type": "markdown",
      "source": [
        "### Generator"
      ],
      "metadata": {
        "id": "ABZtNDl4-8uc"
      }
    },
    {
      "cell_type": "code",
      "source": [
        "class Generator(Model):\n",
        "    def __init__(self):\n",
        "        super(Generator, self).__init__()\n",
        "        filters     = [1024, 512, 256, 128]\n",
        "        kernels     = [   3,   3,   3,   3]\n",
        "        strides     = [   4,   2,   2,   2]\n",
        "        self.depth  = len(filters)\n",
        "        kernel_init = tf.keras.initializers.TruncatedNormal(stddev=0.02)\n",
        "        self.conv   = [layers.Conv2DTranspose(filters=filters[i], kernel_size=kernels[i], strides=strides[i], padding='same', kernel_initializer=kernel_init, use_bias=False) for i in range(self.depth)]\n",
        "        self.norm   = [layers.BatchNormalization() for _ in range(self.depth)]\n",
        "        self.act    = [layers.LeakyReLU() for _ in range(self.depth)]\n",
        "        self.final  = layers.Conv2D(filters=3, kernel_size=3, strides=1, padding='same', kernel_initializer=kernel_init, activation='tanh', use_bias=False)\n",
        "    \n",
        "    @tf.function\n",
        "    def call(self, x):\n",
        "        for i in range(self.depth):\n",
        "            x = self.act[i]( self.norm[i]( self.conv[i]( x ) ) )\n",
        "            # print(x.shape)\n",
        "        x = self.final(x)\n",
        "        # print(x.shape)\n",
        "        return x"
      ],
      "metadata": {
        "id": "BdAiRQEE-jXi"
      },
      "execution_count": null,
      "outputs": []
    },
    {
      "cell_type": "markdown",
      "source": [
        "### Discriminator"
      ],
      "metadata": {
        "id": "F_tm-keC_GG6"
      }
    },
    {
      "cell_type": "code",
      "source": [
        "class Discriminator(Model):\n",
        "    def __init__(self):\n",
        "        super(Discriminator, self).__init__()\n",
        "        filters     = [ 128, 256, 512, 1024]\n",
        "        kernels     = [   3,   3,   3,    3]\n",
        "        strides     = [   1,   2,   2,    2]\n",
        "        self.depth  = len(filters)\n",
        "        kernel_init = tf.keras.initializers.TruncatedNormal(stddev=0.02)\n",
        "        self.conv   = [layers.Conv2D(filters=filters[i], kernel_size=kernels[i], strides=strides[i], padding='same', kernel_initializer=kernel_init, use_bias=False) for i in range(self.depth)]\n",
        "        self.norm   = [layers.BatchNormalization() for _ in range(self.depth)]\n",
        "        self.act    = [layers.LeakyReLU() for _ in range(self.depth)]\n",
        "        self.final  = layers.Conv2D(filters=1, kernel_size=3, strides=1, padding='same', activation='sigmoid')\n",
        "    \n",
        "    @tf.function\n",
        "    def call(self, x):\n",
        "        for i in range(self.depth):\n",
        "            x = self.act[i]( self.norm[i]( self.conv[i]( x ) ) )\n",
        "            # print(x.shape)\n",
        "        x = self.final( x )\n",
        "        x = tf.squeeze(x, axis=-1)\n",
        "        # print(x.shape)\n",
        "        return x"
      ],
      "metadata": {
        "id": "2rBQFi0T_Hjw"
      },
      "execution_count": null,
      "outputs": []
    },
    {
      "cell_type": "markdown",
      "source": [
        "### GAN"
      ],
      "metadata": {
        "id": "VuOvpaHY_RBn"
      }
    },
    {
      "cell_type": "code",
      "source": [
        "class GAN(Model):\n",
        "    def __init__(self):\n",
        "        super(GAN, self).__init__()\n",
        "        self.gen = Generator()\n",
        "        self.dis = Discriminator()\n",
        "\n",
        "test_GAN = GAN()\n",
        "print('Generator')\n",
        "test_GAN.gen(tf.random.uniform(shape=(1, 1, 1, latent_dim), minval=-1.0, maxval=1.0))\n",
        "print('Discriminator')\n",
        "test_GAN.dis(tf.random.normal(shape=(1, 32, 32, 3)))"
      ],
      "metadata": {
        "id": "Yu4VbPgH_Pbf",
        "colab": {
          "base_uri": "https://localhost:8080/"
        },
        "outputId": "a657732a-0636-4254-a80d-d8151a2125fd"
      },
      "execution_count": null,
      "outputs": [
        {
          "output_type": "stream",
          "name": "stdout",
          "text": [
            "Generator\n",
            "Discriminator\n"
          ]
        },
        {
          "output_type": "execute_result",
          "data": {
            "text/plain": [
              "<tf.Tensor: shape=(1, 4, 4), dtype=float32, numpy=\n",
              "array([[[0.5085861 , 0.5072432 , 0.5012803 , 0.49908003],\n",
              "        [0.502585  , 0.49520737, 0.49992707, 0.50004405],\n",
              "        [0.48971635, 0.499797  , 0.4990546 , 0.49947578],\n",
              "        [0.4933697 , 0.49753478, 0.49935746, 0.5012277 ]]], dtype=float32)>"
            ]
          },
          "metadata": {},
          "execution_count": 45
        }
      ]
    },
    {
      "cell_type": "markdown",
      "source": [
        "## Train Method"
      ],
      "metadata": {
        "id": "2cDDC99YaQLd"
      }
    },
    {
      "cell_type": "code",
      "source": [
        "@tf.function\n",
        "def train_step(gan_model, gen_opt, dis_opt, real_image, batch_size, latent_dim):\n",
        "    \n",
        "    latent_vector = tf.random.uniform(shape=(batch_size, 1, 1, latent_dim), minval=-1.0, maxval=1.0)\n",
        "    \n",
        "    def train_dis(gan_model, dis_opt, real_image):\n",
        "        with tf.GradientTape() as tape:\n",
        "            fake_image = gan_model.gen(latent_vector, training=False)\n",
        "            real_out   = gan_model.dis(real_image, training=True)\n",
        "            fake_out   = gan_model.dis(fake_image, training=True)\n",
        "            loss       = dis_loss(real_out, fake_out)\n",
        "        variables = gan_model.dis.trainable_variables\n",
        "        gradients = tape.gradient(loss, variables)\n",
        "        dis_opt.apply_gradients(zip(gradients, variables))\n",
        "        return loss\n",
        "    \n",
        "    def train_gen(gan_model, gen_opt):\n",
        "        with tf.GradientTape() as tape:\n",
        "            fake_image = gan_model.gen(latent_vector, training=True)\n",
        "            fake_out   = gan_model.dis(fake_image, training=False)\n",
        "            loss       = gen_loss(fake_out)\n",
        "        variables = gan_model.gen.trainable_variables\n",
        "        gradients = tape.gradient(loss, variables)\n",
        "        gen_opt.apply_gradients(zip(gradients, variables))\n",
        "        return loss\n",
        "    \n",
        "    d_loss = train_dis(gan_model, dis_opt, real_image)\n",
        "    g_loss = train_gen(gan_model, gen_opt)\n",
        "    return d_loss, g_loss"
      ],
      "metadata": {
        "id": "8amcPHGsaS52"
      },
      "execution_count": null,
      "outputs": []
    },
    {
      "cell_type": "code",
      "source": [
        "def dis_loss(real_out, fake_out):\n",
        "\treal = tf.convert_to_tensor(np.random.randint(low=7, high=12, size=real_out.shape)/10.0)\n",
        "\tfake = tf.convert_to_tensor(np.random.randint(low=0, high=3, size=fake_out.shape)/10.0)\n",
        "\treal_loss  = losses.BinaryCrossentropy()(real, real_out)\n",
        "\tfake_loss  = losses.BinaryCrossentropy()(fake, fake_out)\n",
        "\ttotal_loss = (real_loss + fake_loss)/2.0\n",
        "\treturn total_loss\n",
        "\n",
        "def gen_loss(dis_fake):\n",
        "\treal = tf.ones_like(dis_fake)\n",
        "\tfake_loss = losses.BinaryCrossentropy()(real, dis_fake)\n",
        "\treturn fake_loss"
      ],
      "metadata": {
        "id": "T_CYbQppgCvR"
      },
      "execution_count": null,
      "outputs": []
    },
    {
      "cell_type": "markdown",
      "source": [
        "## Main Method"
      ],
      "metadata": {
        "id": "U0eRcDIeg_Zz"
      }
    },
    {
      "cell_type": "code",
      "source": [
        "gan_model = GAN()\n",
        "gen_opt   = tf.keras.optimizers.Adam(learning_rate=3e-4, beta_1=0.2, beta_2=0.5)\n",
        "dis_opt   = tf.keras.optimizers.Adam(learning_rate=3e-4, beta_1=0.2, beta_2=0.5)\n",
        "ckpt      = tf.train.Checkpoint(step=tf.Variable(1), model=gan_model, gen_opt=gen_opt, dis_opt=dis_opt)\n",
        "ckpt_man  = tf.train.CheckpointManager(ckpt, directory='experiments/gan_ckpt', max_to_keep=10)\n",
        "ckpt.restore(ckpt_man.latest_checkpoint)\n",
        "START     = int(ckpt.step) // len(train_batch)\n",
        "EPOCHS    = 80\n",
        "save_freq = 200\n",
        "sample_latent = tf.random.uniform(shape=(8, 1, 1, latent_dim), minval=-1.0, maxval=1.0)\n",
        "if ckpt_man.latest_checkpoint:\n",
        "    print('Restored from the latest epoch: {}'.format(START))"
      ],
      "metadata": {
        "id": "Kn6bu0smhAqK"
      },
      "execution_count": null,
      "outputs": []
    },
    {
      "cell_type": "code",
      "source": [
        "for epoch in range(START, EPOCHS):\n",
        "    mean_g_loss = tf.keras.metrics.Mean()\n",
        "    mean_d_loss = tf.keras.metrics.Mean()\n",
        "\n",
        "    tq = tqdm(train_batch)\n",
        "\n",
        "    for idx, (X, Y) in enumerate(tq, start=1):\n",
        "        d_loss, g_loss = train_step(gan_model, gen_opt, dis_opt, X, batch_size, latent_dim)\n",
        "        mean_g_loss.update_state(g_loss)\n",
        "        mean_d_loss.update_state(d_loss)\n",
        "\n",
        "        ckpt.step.assign_add(1)\n",
        "        \n",
        "        if (idx%save_freq) == 0:\n",
        "            ckpt_man.save()\n",
        "\n",
        "        tq.set_description('Epoch: {} GLoss: {} DLoss: {}'.format(epoch, mean_g_loss.result(), mean_d_loss.result()))\n",
        "        # break\n",
        "    \n",
        "    fake_images = gan_model.gen(sample_latent, training=False)\n",
        "    show_batch_images(fake_images)\n",
        "    # break"
      ],
      "metadata": {
        "id": "uNqMWhODiN9x"
      },
      "execution_count": null,
      "outputs": []
    },
    {
      "cell_type": "markdown",
      "source": [
        "## MNIST Result (80 epochs)\n",
        "\n",
        "<img src=\"https://s8.gifyu.com/images/GAN_MNIST.gif\" width=\"18%\"></img>"
      ],
      "metadata": {
        "id": "CmJbNyK3MNt_"
      }
    },
    {
      "cell_type": "markdown",
      "source": [
        "## FMNIST Result (20 epochs)\n",
        "\n",
        "<img src=\"https://s8.gifyu.com/images/GAN_FMNIST.gif\" width=\"18%\"></img>"
      ],
      "metadata": {
        "id": "7a1AmH74_WZX"
      }
    }
  ]
}