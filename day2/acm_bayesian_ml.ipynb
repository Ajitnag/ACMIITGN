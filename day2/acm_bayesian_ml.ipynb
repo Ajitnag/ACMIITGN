{
  "nbformat": 4,
  "nbformat_minor": 0,
  "metadata": {
    "colab": {
      "name": "acm_bayesian_ml.ipynb",
      "provenance": [],
      "toc_visible": true,
      "collapsed_sections": []
    },
    "kernelspec": {
      "name": "python3",
      "display_name": "Python 3"
    },
    "language_info": {
      "name": "python"
    },
    "widgets": {
      "application/vnd.jupyter.widget-state+json": {
        "e14afd555546468db0247864ee58b338": {
          "model_module": "@jupyter-widgets/controls",
          "model_name": "VBoxModel",
          "model_module_version": "1.5.0",
          "state": {
            "_dom_classes": [
              "widget-interact"
            ],
            "_model_module": "@jupyter-widgets/controls",
            "_model_module_version": "1.5.0",
            "_model_name": "VBoxModel",
            "_view_count": null,
            "_view_module": "@jupyter-widgets/controls",
            "_view_module_version": "1.5.0",
            "_view_name": "VBoxView",
            "box_style": "",
            "children": [
              "IPY_MODEL_43434568f57c4aad847ca9d96efe6acd",
              "IPY_MODEL_fd8ac49bdeb4453d94757cca920ae2fb",
              "IPY_MODEL_e5ca605e75af40a5a38c6c20ec009feb"
            ],
            "layout": "IPY_MODEL_f2d40922a47f41c4b2892faf8d46045a"
          }
        },
        "43434568f57c4aad847ca9d96efe6acd": {
          "model_module": "@jupyter-widgets/controls",
          "model_name": "FloatSliderModel",
          "model_module_version": "1.5.0",
          "state": {
            "_dom_classes": [],
            "_model_module": "@jupyter-widgets/controls",
            "_model_module_version": "1.5.0",
            "_model_name": "FloatSliderModel",
            "_view_count": null,
            "_view_module": "@jupyter-widgets/controls",
            "_view_module_version": "1.5.0",
            "_view_name": "FloatSliderView",
            "continuous_update": true,
            "description": "a",
            "description_tooltip": null,
            "disabled": false,
            "layout": "IPY_MODEL_7afd9a89b03a44679616369938b93c4c",
            "max": 10,
            "min": 0,
            "orientation": "horizontal",
            "readout": true,
            "readout_format": ".2f",
            "step": 0.5,
            "style": "IPY_MODEL_a77fbd92c2064bd0b695110a13ee277a",
            "value": 5
          }
        },
        "fd8ac49bdeb4453d94757cca920ae2fb": {
          "model_module": "@jupyter-widgets/controls",
          "model_name": "FloatSliderModel",
          "model_module_version": "1.5.0",
          "state": {
            "_dom_classes": [],
            "_model_module": "@jupyter-widgets/controls",
            "_model_module_version": "1.5.0",
            "_model_name": "FloatSliderModel",
            "_view_count": null,
            "_view_module": "@jupyter-widgets/controls",
            "_view_module_version": "1.5.0",
            "_view_name": "FloatSliderView",
            "continuous_update": true,
            "description": "b",
            "description_tooltip": null,
            "disabled": false,
            "layout": "IPY_MODEL_6eec479c38a044d7b7455a185e15cf38",
            "max": 10,
            "min": 0,
            "orientation": "horizontal",
            "readout": true,
            "readout_format": ".2f",
            "step": 0.5,
            "style": "IPY_MODEL_1f87f20ae1814beb9dfecf68372b5a8a",
            "value": 5
          }
        },
        "e5ca605e75af40a5a38c6c20ec009feb": {
          "model_module": "@jupyter-widgets/output",
          "model_name": "OutputModel",
          "model_module_version": "1.0.0",
          "state": {
            "_dom_classes": [],
            "_model_module": "@jupyter-widgets/output",
            "_model_module_version": "1.0.0",
            "_model_name": "OutputModel",
            "_view_count": null,
            "_view_module": "@jupyter-widgets/output",
            "_view_module_version": "1.0.0",
            "_view_name": "OutputView",
            "layout": "IPY_MODEL_6d0918e329624e73b48293b361cab6dd",
            "msg_id": "",
            "outputs": [
              {
                "output_type": "display_data",
                "data": {
                  "text/plain": "<Figure size 432x288 with 1 Axes>",
                  "image/png": "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\n"
                },
                "metadata": {}
              }
            ]
          }
        },
        "f2d40922a47f41c4b2892faf8d46045a": {
          "model_module": "@jupyter-widgets/base",
          "model_name": "LayoutModel",
          "model_module_version": "1.2.0",
          "state": {
            "_model_module": "@jupyter-widgets/base",
            "_model_module_version": "1.2.0",
            "_model_name": "LayoutModel",
            "_view_count": null,
            "_view_module": "@jupyter-widgets/base",
            "_view_module_version": "1.2.0",
            "_view_name": "LayoutView",
            "align_content": null,
            "align_items": null,
            "align_self": null,
            "border": null,
            "bottom": null,
            "display": null,
            "flex": null,
            "flex_flow": null,
            "grid_area": null,
            "grid_auto_columns": null,
            "grid_auto_flow": null,
            "grid_auto_rows": null,
            "grid_column": null,
            "grid_gap": null,
            "grid_row": null,
            "grid_template_areas": null,
            "grid_template_columns": null,
            "grid_template_rows": null,
            "height": null,
            "justify_content": null,
            "justify_items": null,
            "left": null,
            "margin": null,
            "max_height": null,
            "max_width": null,
            "min_height": null,
            "min_width": null,
            "object_fit": null,
            "object_position": null,
            "order": null,
            "overflow": null,
            "overflow_x": null,
            "overflow_y": null,
            "padding": null,
            "right": null,
            "top": null,
            "visibility": null,
            "width": null
          }
        },
        "7afd9a89b03a44679616369938b93c4c": {
          "model_module": "@jupyter-widgets/base",
          "model_name": "LayoutModel",
          "model_module_version": "1.2.0",
          "state": {
            "_model_module": "@jupyter-widgets/base",
            "_model_module_version": "1.2.0",
            "_model_name": "LayoutModel",
            "_view_count": null,
            "_view_module": "@jupyter-widgets/base",
            "_view_module_version": "1.2.0",
            "_view_name": "LayoutView",
            "align_content": null,
            "align_items": null,
            "align_self": null,
            "border": null,
            "bottom": null,
            "display": null,
            "flex": null,
            "flex_flow": null,
            "grid_area": null,
            "grid_auto_columns": null,
            "grid_auto_flow": null,
            "grid_auto_rows": null,
            "grid_column": null,
            "grid_gap": null,
            "grid_row": null,
            "grid_template_areas": null,
            "grid_template_columns": null,
            "grid_template_rows": null,
            "height": null,
            "justify_content": null,
            "justify_items": null,
            "left": null,
            "margin": null,
            "max_height": null,
            "max_width": null,
            "min_height": null,
            "min_width": null,
            "object_fit": null,
            "object_position": null,
            "order": null,
            "overflow": null,
            "overflow_x": null,
            "overflow_y": null,
            "padding": null,
            "right": null,
            "top": null,
            "visibility": null,
            "width": null
          }
        },
        "a77fbd92c2064bd0b695110a13ee277a": {
          "model_module": "@jupyter-widgets/controls",
          "model_name": "SliderStyleModel",
          "model_module_version": "1.5.0",
          "state": {
            "_model_module": "@jupyter-widgets/controls",
            "_model_module_version": "1.5.0",
            "_model_name": "SliderStyleModel",
            "_view_count": null,
            "_view_module": "@jupyter-widgets/base",
            "_view_module_version": "1.2.0",
            "_view_name": "StyleView",
            "description_width": "",
            "handle_color": null
          }
        },
        "6eec479c38a044d7b7455a185e15cf38": {
          "model_module": "@jupyter-widgets/base",
          "model_name": "LayoutModel",
          "model_module_version": "1.2.0",
          "state": {
            "_model_module": "@jupyter-widgets/base",
            "_model_module_version": "1.2.0",
            "_model_name": "LayoutModel",
            "_view_count": null,
            "_view_module": "@jupyter-widgets/base",
            "_view_module_version": "1.2.0",
            "_view_name": "LayoutView",
            "align_content": null,
            "align_items": null,
            "align_self": null,
            "border": null,
            "bottom": null,
            "display": null,
            "flex": null,
            "flex_flow": null,
            "grid_area": null,
            "grid_auto_columns": null,
            "grid_auto_flow": null,
            "grid_auto_rows": null,
            "grid_column": null,
            "grid_gap": null,
            "grid_row": null,
            "grid_template_areas": null,
            "grid_template_columns": null,
            "grid_template_rows": null,
            "height": null,
            "justify_content": null,
            "justify_items": null,
            "left": null,
            "margin": null,
            "max_height": null,
            "max_width": null,
            "min_height": null,
            "min_width": null,
            "object_fit": null,
            "object_position": null,
            "order": null,
            "overflow": null,
            "overflow_x": null,
            "overflow_y": null,
            "padding": null,
            "right": null,
            "top": null,
            "visibility": null,
            "width": null
          }
        },
        "1f87f20ae1814beb9dfecf68372b5a8a": {
          "model_module": "@jupyter-widgets/controls",
          "model_name": "SliderStyleModel",
          "model_module_version": "1.5.0",
          "state": {
            "_model_module": "@jupyter-widgets/controls",
            "_model_module_version": "1.5.0",
            "_model_name": "SliderStyleModel",
            "_view_count": null,
            "_view_module": "@jupyter-widgets/base",
            "_view_module_version": "1.2.0",
            "_view_name": "StyleView",
            "description_width": "",
            "handle_color": null
          }
        },
        "6d0918e329624e73b48293b361cab6dd": {
          "model_module": "@jupyter-widgets/base",
          "model_name": "LayoutModel",
          "model_module_version": "1.2.0",
          "state": {
            "_model_module": "@jupyter-widgets/base",
            "_model_module_version": "1.2.0",
            "_model_name": "LayoutModel",
            "_view_count": null,
            "_view_module": "@jupyter-widgets/base",
            "_view_module_version": "1.2.0",
            "_view_name": "LayoutView",
            "align_content": null,
            "align_items": null,
            "align_self": null,
            "border": null,
            "bottom": null,
            "display": null,
            "flex": null,
            "flex_flow": null,
            "grid_area": null,
            "grid_auto_columns": null,
            "grid_auto_flow": null,
            "grid_auto_rows": null,
            "grid_column": null,
            "grid_gap": null,
            "grid_row": null,
            "grid_template_areas": null,
            "grid_template_columns": null,
            "grid_template_rows": null,
            "height": null,
            "justify_content": null,
            "justify_items": null,
            "left": null,
            "margin": null,
            "max_height": null,
            "max_width": null,
            "min_height": null,
            "min_width": null,
            "object_fit": null,
            "object_position": null,
            "order": null,
            "overflow": null,
            "overflow_x": null,
            "overflow_y": null,
            "padding": null,
            "right": null,
            "top": null,
            "visibility": null,
            "width": null
          }
        },
        "0a34e4b51efc48c0b3f39bfb3cf6580a": {
          "model_module": "@jupyter-widgets/controls",
          "model_name": "VBoxModel",
          "model_module_version": "1.5.0",
          "state": {
            "_dom_classes": [
              "widget-interact"
            ],
            "_model_module": "@jupyter-widgets/controls",
            "_model_module_version": "1.5.0",
            "_model_name": "VBoxModel",
            "_view_count": null,
            "_view_module": "@jupyter-widgets/controls",
            "_view_module_version": "1.5.0",
            "_view_name": "VBoxView",
            "box_style": "",
            "children": [
              "IPY_MODEL_19a46bee177d4d0697595411bc34d7be",
              "IPY_MODEL_0ba2e538883347928a02ce3b2323d96f"
            ],
            "layout": "IPY_MODEL_7ed32dc8d1f540359b3d69eff6852222"
          }
        },
        "19a46bee177d4d0697595411bc34d7be": {
          "model_module": "@jupyter-widgets/controls",
          "model_name": "IntSliderModel",
          "model_module_version": "1.5.0",
          "state": {
            "_dom_classes": [],
            "_model_module": "@jupyter-widgets/controls",
            "_model_module_version": "1.5.0",
            "_model_name": "IntSliderModel",
            "_view_count": null,
            "_view_module": "@jupyter-widgets/controls",
            "_view_module_version": "1.5.0",
            "_view_name": "IntSliderView",
            "continuous_update": true,
            "description": "seed",
            "description_tooltip": null,
            "disabled": false,
            "layout": "IPY_MODEL_bf72499e22074f1a92a3841cfca76a75",
            "max": 10,
            "min": 0,
            "orientation": "horizontal",
            "readout": true,
            "readout_format": "d",
            "step": 1,
            "style": "IPY_MODEL_45e57f1d01614780b005b0153635444f",
            "value": 5
          }
        },
        "0ba2e538883347928a02ce3b2323d96f": {
          "model_module": "@jupyter-widgets/output",
          "model_name": "OutputModel",
          "model_module_version": "1.0.0",
          "state": {
            "_dom_classes": [],
            "_model_module": "@jupyter-widgets/output",
            "_model_module_version": "1.0.0",
            "_model_name": "OutputModel",
            "_view_count": null,
            "_view_module": "@jupyter-widgets/output",
            "_view_module_version": "1.0.0",
            "_view_name": "OutputView",
            "layout": "IPY_MODEL_c1ace18597484156ab99660bcb5dd7c8",
            "msg_id": "",
            "outputs": [
              {
                "output_type": "display_data",
                "data": {
                  "text/plain": "<Figure size 432x288 with 1 Axes>",
                  "image/png": "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\n"
                },
                "metadata": {}
              }
            ]
          }
        },
        "7ed32dc8d1f540359b3d69eff6852222": {
          "model_module": "@jupyter-widgets/base",
          "model_name": "LayoutModel",
          "model_module_version": "1.2.0",
          "state": {
            "_model_module": "@jupyter-widgets/base",
            "_model_module_version": "1.2.0",
            "_model_name": "LayoutModel",
            "_view_count": null,
            "_view_module": "@jupyter-widgets/base",
            "_view_module_version": "1.2.0",
            "_view_name": "LayoutView",
            "align_content": null,
            "align_items": null,
            "align_self": null,
            "border": null,
            "bottom": null,
            "display": null,
            "flex": null,
            "flex_flow": null,
            "grid_area": null,
            "grid_auto_columns": null,
            "grid_auto_flow": null,
            "grid_auto_rows": null,
            "grid_column": null,
            "grid_gap": null,
            "grid_row": null,
            "grid_template_areas": null,
            "grid_template_columns": null,
            "grid_template_rows": null,
            "height": null,
            "justify_content": null,
            "justify_items": null,
            "left": null,
            "margin": null,
            "max_height": null,
            "max_width": null,
            "min_height": null,
            "min_width": null,
            "object_fit": null,
            "object_position": null,
            "order": null,
            "overflow": null,
            "overflow_x": null,
            "overflow_y": null,
            "padding": null,
            "right": null,
            "top": null,
            "visibility": null,
            "width": null
          }
        },
        "bf72499e22074f1a92a3841cfca76a75": {
          "model_module": "@jupyter-widgets/base",
          "model_name": "LayoutModel",
          "model_module_version": "1.2.0",
          "state": {
            "_model_module": "@jupyter-widgets/base",
            "_model_module_version": "1.2.0",
            "_model_name": "LayoutModel",
            "_view_count": null,
            "_view_module": "@jupyter-widgets/base",
            "_view_module_version": "1.2.0",
            "_view_name": "LayoutView",
            "align_content": null,
            "align_items": null,
            "align_self": null,
            "border": null,
            "bottom": null,
            "display": null,
            "flex": null,
            "flex_flow": null,
            "grid_area": null,
            "grid_auto_columns": null,
            "grid_auto_flow": null,
            "grid_auto_rows": null,
            "grid_column": null,
            "grid_gap": null,
            "grid_row": null,
            "grid_template_areas": null,
            "grid_template_columns": null,
            "grid_template_rows": null,
            "height": null,
            "justify_content": null,
            "justify_items": null,
            "left": null,
            "margin": null,
            "max_height": null,
            "max_width": null,
            "min_height": null,
            "min_width": null,
            "object_fit": null,
            "object_position": null,
            "order": null,
            "overflow": null,
            "overflow_x": null,
            "overflow_y": null,
            "padding": null,
            "right": null,
            "top": null,
            "visibility": null,
            "width": null
          }
        },
        "45e57f1d01614780b005b0153635444f": {
          "model_module": "@jupyter-widgets/controls",
          "model_name": "SliderStyleModel",
          "model_module_version": "1.5.0",
          "state": {
            "_model_module": "@jupyter-widgets/controls",
            "_model_module_version": "1.5.0",
            "_model_name": "SliderStyleModel",
            "_view_count": null,
            "_view_module": "@jupyter-widgets/base",
            "_view_module_version": "1.2.0",
            "_view_name": "StyleView",
            "description_width": "",
            "handle_color": null
          }
        },
        "c1ace18597484156ab99660bcb5dd7c8": {
          "model_module": "@jupyter-widgets/base",
          "model_name": "LayoutModel",
          "model_module_version": "1.2.0",
          "state": {
            "_model_module": "@jupyter-widgets/base",
            "_model_module_version": "1.2.0",
            "_model_name": "LayoutModel",
            "_view_count": null,
            "_view_module": "@jupyter-widgets/base",
            "_view_module_version": "1.2.0",
            "_view_name": "LayoutView",
            "align_content": null,
            "align_items": null,
            "align_self": null,
            "border": null,
            "bottom": null,
            "display": null,
            "flex": null,
            "flex_flow": null,
            "grid_area": null,
            "grid_auto_columns": null,
            "grid_auto_flow": null,
            "grid_auto_rows": null,
            "grid_column": null,
            "grid_gap": null,
            "grid_row": null,
            "grid_template_areas": null,
            "grid_template_columns": null,
            "grid_template_rows": null,
            "height": null,
            "justify_content": null,
            "justify_items": null,
            "left": null,
            "margin": null,
            "max_height": null,
            "max_width": null,
            "min_height": null,
            "min_width": null,
            "object_fit": null,
            "object_position": null,
            "order": null,
            "overflow": null,
            "overflow_x": null,
            "overflow_y": null,
            "padding": null,
            "right": null,
            "top": null,
            "visibility": null,
            "width": null
          }
        },
        "79ff7a065a2d4ee6b37c5203e7d86682": {
          "model_module": "@jupyter-widgets/controls",
          "model_name": "VBoxModel",
          "model_module_version": "1.5.0",
          "state": {
            "_dom_classes": [
              "widget-interact"
            ],
            "_model_module": "@jupyter-widgets/controls",
            "_model_module_version": "1.5.0",
            "_model_name": "VBoxModel",
            "_view_count": null,
            "_view_module": "@jupyter-widgets/controls",
            "_view_module_version": "1.5.0",
            "_view_name": "VBoxView",
            "box_style": "",
            "children": [
              "IPY_MODEL_b576d79d302745e4b7cc2ac9040ca684",
              "IPY_MODEL_561c671fe65d41c39847f9929c26c8b4",
              "IPY_MODEL_99cabe05254748be9b61f0e9e32a7b57"
            ],
            "layout": "IPY_MODEL_fb100850dd184feda3c878a8081a7d3a"
          }
        },
        "b576d79d302745e4b7cc2ac9040ca684": {
          "model_module": "@jupyter-widgets/controls",
          "model_name": "FloatSliderModel",
          "model_module_version": "1.5.0",
          "state": {
            "_dom_classes": [],
            "_model_module": "@jupyter-widgets/controls",
            "_model_module_version": "1.5.0",
            "_model_name": "FloatSliderModel",
            "_view_count": null,
            "_view_module": "@jupyter-widgets/controls",
            "_view_module_version": "1.5.0",
            "_view_name": "FloatSliderView",
            "continuous_update": true,
            "description": "intercept",
            "description_tooltip": null,
            "disabled": false,
            "layout": "IPY_MODEL_b030e01630a04443b54026ed343403fd",
            "max": 8,
            "min": 0,
            "orientation": "horizontal",
            "readout": true,
            "readout_format": ".2f",
            "step": 0.5,
            "style": "IPY_MODEL_bcec50b961464285b82dbe837f521355",
            "value": 0
          }
        },
        "561c671fe65d41c39847f9929c26c8b4": {
          "model_module": "@jupyter-widgets/controls",
          "model_name": "FloatSliderModel",
          "model_module_version": "1.5.0",
          "state": {
            "_dom_classes": [],
            "_model_module": "@jupyter-widgets/controls",
            "_model_module_version": "1.5.0",
            "_model_name": "FloatSliderModel",
            "_view_count": null,
            "_view_module": "@jupyter-widgets/controls",
            "_view_module_version": "1.5.0",
            "_view_name": "FloatSliderView",
            "continuous_update": true,
            "description": "slope",
            "description_tooltip": null,
            "disabled": false,
            "layout": "IPY_MODEL_0fc0f1a8e2bd4080bab36116529fa958",
            "max": 7,
            "min": -1,
            "orientation": "horizontal",
            "readout": true,
            "readout_format": ".2f",
            "step": 0.5,
            "style": "IPY_MODEL_334b189018a34b0e840175056da3dfce",
            "value": 0
          }
        },
        "99cabe05254748be9b61f0e9e32a7b57": {
          "model_module": "@jupyter-widgets/output",
          "model_name": "OutputModel",
          "model_module_version": "1.0.0",
          "state": {
            "_dom_classes": [],
            "_model_module": "@jupyter-widgets/output",
            "_model_module_version": "1.0.0",
            "_model_name": "OutputModel",
            "_view_count": null,
            "_view_module": "@jupyter-widgets/output",
            "_view_module_version": "1.0.0",
            "_view_name": "OutputView",
            "layout": "IPY_MODEL_419e85f72f4448e2a5abd2181c4b05ec",
            "msg_id": "",
            "outputs": [
              {
                "output_type": "display_data",
                "data": {
                  "text/plain": "<Figure size 864x288 with 3 Axes>",
                  "image/png": "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\n"
                },
                "metadata": {}
              }
            ]
          }
        },
        "fb100850dd184feda3c878a8081a7d3a": {
          "model_module": "@jupyter-widgets/base",
          "model_name": "LayoutModel",
          "model_module_version": "1.2.0",
          "state": {
            "_model_module": "@jupyter-widgets/base",
            "_model_module_version": "1.2.0",
            "_model_name": "LayoutModel",
            "_view_count": null,
            "_view_module": "@jupyter-widgets/base",
            "_view_module_version": "1.2.0",
            "_view_name": "LayoutView",
            "align_content": null,
            "align_items": null,
            "align_self": null,
            "border": null,
            "bottom": null,
            "display": null,
            "flex": null,
            "flex_flow": null,
            "grid_area": null,
            "grid_auto_columns": null,
            "grid_auto_flow": null,
            "grid_auto_rows": null,
            "grid_column": null,
            "grid_gap": null,
            "grid_row": null,
            "grid_template_areas": null,
            "grid_template_columns": null,
            "grid_template_rows": null,
            "height": null,
            "justify_content": null,
            "justify_items": null,
            "left": null,
            "margin": null,
            "max_height": null,
            "max_width": null,
            "min_height": null,
            "min_width": null,
            "object_fit": null,
            "object_position": null,
            "order": null,
            "overflow": null,
            "overflow_x": null,
            "overflow_y": null,
            "padding": null,
            "right": null,
            "top": null,
            "visibility": null,
            "width": null
          }
        },
        "b030e01630a04443b54026ed343403fd": {
          "model_module": "@jupyter-widgets/base",
          "model_name": "LayoutModel",
          "model_module_version": "1.2.0",
          "state": {
            "_model_module": "@jupyter-widgets/base",
            "_model_module_version": "1.2.0",
            "_model_name": "LayoutModel",
            "_view_count": null,
            "_view_module": "@jupyter-widgets/base",
            "_view_module_version": "1.2.0",
            "_view_name": "LayoutView",
            "align_content": null,
            "align_items": null,
            "align_self": null,
            "border": null,
            "bottom": null,
            "display": null,
            "flex": null,
            "flex_flow": null,
            "grid_area": null,
            "grid_auto_columns": null,
            "grid_auto_flow": null,
            "grid_auto_rows": null,
            "grid_column": null,
            "grid_gap": null,
            "grid_row": null,
            "grid_template_areas": null,
            "grid_template_columns": null,
            "grid_template_rows": null,
            "height": null,
            "justify_content": null,
            "justify_items": null,
            "left": null,
            "margin": null,
            "max_height": null,
            "max_width": null,
            "min_height": null,
            "min_width": null,
            "object_fit": null,
            "object_position": null,
            "order": null,
            "overflow": null,
            "overflow_x": null,
            "overflow_y": null,
            "padding": null,
            "right": null,
            "top": null,
            "visibility": null,
            "width": null
          }
        },
        "bcec50b961464285b82dbe837f521355": {
          "model_module": "@jupyter-widgets/controls",
          "model_name": "SliderStyleModel",
          "model_module_version": "1.5.0",
          "state": {
            "_model_module": "@jupyter-widgets/controls",
            "_model_module_version": "1.5.0",
            "_model_name": "SliderStyleModel",
            "_view_count": null,
            "_view_module": "@jupyter-widgets/base",
            "_view_module_version": "1.2.0",
            "_view_name": "StyleView",
            "description_width": "",
            "handle_color": null
          }
        },
        "0fc0f1a8e2bd4080bab36116529fa958": {
          "model_module": "@jupyter-widgets/base",
          "model_name": "LayoutModel",
          "model_module_version": "1.2.0",
          "state": {
            "_model_module": "@jupyter-widgets/base",
            "_model_module_version": "1.2.0",
            "_model_name": "LayoutModel",
            "_view_count": null,
            "_view_module": "@jupyter-widgets/base",
            "_view_module_version": "1.2.0",
            "_view_name": "LayoutView",
            "align_content": null,
            "align_items": null,
            "align_self": null,
            "border": null,
            "bottom": null,
            "display": null,
            "flex": null,
            "flex_flow": null,
            "grid_area": null,
            "grid_auto_columns": null,
            "grid_auto_flow": null,
            "grid_auto_rows": null,
            "grid_column": null,
            "grid_gap": null,
            "grid_row": null,
            "grid_template_areas": null,
            "grid_template_columns": null,
            "grid_template_rows": null,
            "height": null,
            "justify_content": null,
            "justify_items": null,
            "left": null,
            "margin": null,
            "max_height": null,
            "max_width": null,
            "min_height": null,
            "min_width": null,
            "object_fit": null,
            "object_position": null,
            "order": null,
            "overflow": null,
            "overflow_x": null,
            "overflow_y": null,
            "padding": null,
            "right": null,
            "top": null,
            "visibility": null,
            "width": null
          }
        },
        "334b189018a34b0e840175056da3dfce": {
          "model_module": "@jupyter-widgets/controls",
          "model_name": "SliderStyleModel",
          "model_module_version": "1.5.0",
          "state": {
            "_model_module": "@jupyter-widgets/controls",
            "_model_module_version": "1.5.0",
            "_model_name": "SliderStyleModel",
            "_view_count": null,
            "_view_module": "@jupyter-widgets/base",
            "_view_module_version": "1.2.0",
            "_view_name": "StyleView",
            "description_width": "",
            "handle_color": null
          }
        },
        "419e85f72f4448e2a5abd2181c4b05ec": {
          "model_module": "@jupyter-widgets/base",
          "model_name": "LayoutModel",
          "model_module_version": "1.2.0",
          "state": {
            "_model_module": "@jupyter-widgets/base",
            "_model_module_version": "1.2.0",
            "_model_name": "LayoutModel",
            "_view_count": null,
            "_view_module": "@jupyter-widgets/base",
            "_view_module_version": "1.2.0",
            "_view_name": "LayoutView",
            "align_content": null,
            "align_items": null,
            "align_self": null,
            "border": null,
            "bottom": null,
            "display": null,
            "flex": null,
            "flex_flow": null,
            "grid_area": null,
            "grid_auto_columns": null,
            "grid_auto_flow": null,
            "grid_auto_rows": null,
            "grid_column": null,
            "grid_gap": null,
            "grid_row": null,
            "grid_template_areas": null,
            "grid_template_columns": null,
            "grid_template_rows": null,
            "height": null,
            "justify_content": null,
            "justify_items": null,
            "left": null,
            "margin": null,
            "max_height": null,
            "max_width": null,
            "min_height": null,
            "min_width": null,
            "object_fit": null,
            "object_position": null,
            "order": null,
            "overflow": null,
            "overflow_x": null,
            "overflow_y": null,
            "padding": null,
            "right": null,
            "top": null,
            "visibility": null,
            "width": null
          }
        }
      }
    }
  },
  "cells": [
    {
      "cell_type": "code",
      "source": [
        "#@title Hide TFP Warnings { display-mode: \"form\" }\n",
        "######### Avoid TypeCheck Warning #########\n",
        "import logging\n",
        "\n",
        "logger = logging.getLogger()\n",
        "\n",
        "\n",
        "class CheckTypesFilter(logging.Filter):\n",
        "    def filter(self, record):\n",
        "        return \"check_types\" not in record.getMessage()\n",
        "\n",
        "\n",
        "logger.addFilter(CheckTypesFilter())\n",
        "############################################"
      ],
      "metadata": {
        "id": "-K2U69t-SBSd"
      },
      "execution_count": 1,
      "outputs": []
    },
    {
      "cell_type": "code",
      "execution_count": 2,
      "metadata": {
        "id": "pwGuLcClRr0e"
      },
      "outputs": [],
      "source": [
        "import jax\n",
        "import jax.numpy as jnp\n",
        "import tensorflow_probability.substrates.jax as tfp\n",
        "tfd = tfp.distributions\n",
        "\n",
        "import matplotlib.pyplot as plt\n",
        "plt.style.use(\"fivethirtyeight\")\n",
        "import seaborn as sns\n",
        "\n",
        "from ipywidgets import interact\n",
        "from jax.config import config\n",
        "config.update(\"jax_enable_x64\", True)"
      ]
    },
    {
      "cell_type": "code",
      "source": [
        "#@title Bayes theorem (3Blue1Brown)\n",
        "from IPython.display import HTML\n",
        "HTML('<iframe width=\"560\" height=\"315\" src=\"https://www.youtube.com/embed/HZGCoVF3YvM\" frameborder=\"0\" allow=\"accelerometer; autoplay; encrypted-media; gyroscope; picture-in-picture\" allowfullscreen></iframe>')"
      ],
      "metadata": {
        "colab": {
          "base_uri": "https://localhost:8080/",
          "height": 336
        },
        "cellView": "form",
        "id": "wiUdVuK-Taqg",
        "outputId": "d0284366-4ed8-435a-91cd-054796752a97"
      },
      "execution_count": 3,
      "outputs": [
        {
          "output_type": "execute_result",
          "data": {
            "text/plain": [
              "<IPython.core.display.HTML object>"
            ],
            "text/html": [
              "<iframe width=\"560\" height=\"315\" src=\"https://www.youtube.com/embed/HZGCoVF3YvM\" frameborder=\"0\" allow=\"accelerometer; autoplay; encrypted-media; gyroscope; picture-in-picture\" allowfullscreen></iframe>"
            ]
          },
          "metadata": {},
          "execution_count": 3
        }
      ]
    },
    {
      "cell_type": "markdown",
      "source": [
        "## Bernoulli distribution"
      ],
      "metadata": {
        "id": "0YE0ZpmMUgSx"
      }
    },
    {
      "cell_type": "code",
      "source": [
        "bernoulli = tfd.Bernoulli(probs=0.3)\n",
        "bernoulli"
      ],
      "metadata": {
        "colab": {
          "base_uri": "https://localhost:8080/"
        },
        "id": "NiT50x9VTtRe",
        "outputId": "69e783ec-3283-41f3-9b9a-a45ab30c292b"
      },
      "execution_count": 4,
      "outputs": [
        {
          "output_type": "stream",
          "name": "stderr",
          "text": [
            "WARNING:absl:No GPU/TPU found, falling back to CPU. (Set TF_CPP_MIN_LOG_LEVEL=0 and rerun for more info.)\n"
          ]
        },
        {
          "output_type": "execute_result",
          "data": {
            "text/plain": [
              "<tfp.distributions.Bernoulli 'Bernoulli' batch_shape=[] event_shape=[] dtype=int32>"
            ]
          },
          "metadata": {},
          "execution_count": 4
        }
      ]
    },
    {
      "cell_type": "code",
      "source": [
        "print(f\"Probability of 1: {bernoulli.prob(1):.2f}\")\n",
        "print(f\"Probability of 0: {bernoulli.prob(0):.2f}\")"
      ],
      "metadata": {
        "colab": {
          "base_uri": "https://localhost:8080/"
        },
        "id": "85awYQWFUyCt",
        "outputId": "d145bb9d-ee9b-4ea0-e775-5168e513326a"
      },
      "execution_count": 5,
      "outputs": [
        {
          "output_type": "stream",
          "name": "stdout",
          "text": [
            "Probability of 1: 0.30\n",
            "Probability of 0: 0.70\n"
          ]
        }
      ]
    },
    {
      "cell_type": "markdown",
      "source": [
        "### Probability Mass Function (PMF) "
      ],
      "metadata": {
        "id": "XB3NDyR1WY7e"
      }
    },
    {
      "cell_type": "code",
      "source": [
        "support = [0, 1]\n",
        "probs = bernoulli.prob(support)\n",
        "plt.bar(support, probs)\n",
        "plt.xticks([0, 1])\n",
        "plt.xlabel(\"$x$\")\n",
        "plt.ylabel(\"$p(x)$\");"
      ],
      "metadata": {
        "colab": {
          "base_uri": "https://localhost:8080/",
          "height": 304
        },
        "id": "dT2VwRgSVBE9",
        "outputId": "660b18a3-b471-4352-b602-28ba46d6c717"
      },
      "execution_count": 6,
      "outputs": [
        {
          "output_type": "display_data",
          "data": {
            "text/plain": [
              "<Figure size 432x288 with 1 Axes>"
            ],
            "image/png": "[encoded data removed]"
          },
          "metadata": {}
        }
      ]
    },
    {
      "cell_type": "markdown",
      "source": [
        "### Sampling from bernoulli distribution"
      ],
      "metadata": {
        "id": "MNN5nbAKWpAi"
      }
    },
    {
      "cell_type": "code",
      "source": [
        "seed = jax.random.PRNGKey(0)\n",
        "sample = bernoulli.sample(seed=seed)\n",
        "sample"
      ],
      "metadata": {
        "colab": {
          "base_uri": "https://localhost:8080/"
        },
        "id": "NDgzIh_5WA5Y",
        "outputId": "835ec85a-c02b-4932-8e09-f382457da7cf"
      },
      "execution_count": 7,
      "outputs": [
        {
          "output_type": "execute_result",
          "data": {
            "text/plain": [
              "DeviceArray(0, dtype=int32)"
            ]
          },
          "metadata": {},
          "execution_count": 7
        }
      ]
    },
    {
      "cell_type": "code",
      "source": [
        "samples = bernoulli.sample(seed=seed, sample_shape=(10,))\n",
        "samples"
      ],
      "metadata": {
        "colab": {
          "base_uri": "https://localhost:8080/"
        },
        "id": "qPm28fvrW2Pr",
        "outputId": "2d44386a-94af-4b43-aadb-4601d40ff406"
      },
      "execution_count": 8,
      "outputs": [
        {
          "output_type": "execute_result",
          "data": {
            "text/plain": [
              "DeviceArray([0, 0, 0, 1, 0, 0, 1, 1, 0, 0], dtype=int32)"
            ]
          },
          "metadata": {},
          "execution_count": 8
        }
      ]
    },
    {
      "cell_type": "code",
      "source": [
        "samples = bernoulli.sample(seed=seed, sample_shape=(10000,))"
      ],
      "metadata": {
        "id": "IcFkZiGaW8VI"
      },
      "execution_count": 9,
      "outputs": []
    },
    {
      "cell_type": "code",
      "source": [
        "(samples == 1).sum()"
      ],
      "metadata": {
        "colab": {
          "base_uri": "https://localhost:8080/"
        },
        "id": "yBADnzakXENd",
        "outputId": "2b8fd3e6-5877-4c7e-8c6d-44797b7df457"
      },
      "execution_count": 10,
      "outputs": [
        {
          "output_type": "execute_result",
          "data": {
            "text/plain": [
              "DeviceArray(2992, dtype=int64)"
            ]
          },
          "metadata": {},
          "execution_count": 10
        }
      ]
    },
    {
      "cell_type": "code",
      "source": [
        "(samples == 0).sum()"
      ],
      "metadata": {
        "colab": {
          "base_uri": "https://localhost:8080/"
        },
        "id": "8sVTKZWgX0mG",
        "outputId": "f4c57181-3557-49c9-fbcf-9e6dc601901c"
      },
      "execution_count": 11,
      "outputs": [
        {
          "output_type": "execute_result",
          "data": {
            "text/plain": [
              "DeviceArray(7008, dtype=int64)"
            ]
          },
          "metadata": {},
          "execution_count": 11
        }
      ]
    },
    {
      "cell_type": "markdown",
      "source": [
        "### Sampling I.I.D."
      ],
      "metadata": {
        "id": "viqgdDUHYSWx"
      }
    },
    {
      "cell_type": "code",
      "source": [
        "bernoulli = tfd.Bernoulli(probs=0.4)\n",
        "\n",
        "N = 10\n",
        "for i in range(N):\n",
        "  seed = jax.random.PRNGKey(i)\n",
        "  sample = bernoulli.sample(seed=seed)\n",
        "  print(sample, end=\" \")"
      ],
      "metadata": {
        "colab": {
          "base_uri": "https://localhost:8080/"
        },
        "id": "1lqkGcRDX2XC",
        "outputId": "f3ec0cdf-75d2-42de-81e9-128dcf9c1872"
      },
      "execution_count": 12,
      "outputs": [
        {
          "output_type": "stream",
          "name": "stdout",
          "text": [
            "0 1 0 0 1 0 0 0 0 0 "
          ]
        }
      ]
    },
    {
      "cell_type": "code",
      "source": [
        "seed = jax.random.PRNGKey(1)\n",
        "samples = bernoulli.sample(seed=seed, sample_shape=(N,))\n",
        "samples"
      ],
      "metadata": {
        "colab": {
          "base_uri": "https://localhost:8080/"
        },
        "id": "t9Xss_YNY5SI",
        "outputId": "2e97e029-55e7-42b2-b205-f36401bf7fa9"
      },
      "execution_count": 13,
      "outputs": [
        {
          "output_type": "execute_result",
          "data": {
            "text/plain": [
              "DeviceArray([0, 1, 1, 0, 0, 1, 0, 0, 1, 0], dtype=int32)"
            ]
          },
          "metadata": {},
          "execution_count": 13
        }
      ]
    },
    {
      "cell_type": "markdown",
      "source": [
        "## Coin Toss Problem"
      ],
      "metadata": {
        "id": "r8sH2EYTZIr9"
      }
    },
    {
      "cell_type": "code",
      "source": [
        "coin_toss_data = jnp.array([1, 0, 1, 1, 1, 1, 0, 1, 1, 1])\n",
        "coin_toss_data"
      ],
      "metadata": {
        "colab": {
          "base_uri": "https://localhost:8080/"
        },
        "id": "1f6CzLQicTck",
        "outputId": "6cc4c5c5-8b56-4abb-972b-59a0cc656e76"
      },
      "execution_count": 14,
      "outputs": [
        {
          "output_type": "execute_result",
          "data": {
            "text/plain": [
              "DeviceArray([1, 0, 1, 1, 1, 1, 0, 1, 1, 1], dtype=int64)"
            ]
          },
          "metadata": {},
          "execution_count": 14
        }
      ]
    },
    {
      "cell_type": "markdown",
      "source": [
        "We want to determine the probability (likelihood) of $D=\\{H,T,H,H,H,H,T,H,H,H\\}$ after 10 coin flips believing that we have an unfair coin ($p(H)=\\theta=0.3$).\n",
        "\n",
        "$$\n",
        "p(D|\\theta) = \\prod\\limits_{i=1}^{10}p(D_i|\\theta) = (0.3)^8(0.7)^2\n",
        "$$\n",
        "\n",
        "More generally, out of N experiments, if we see $h$ heads, likelihood $p(D|\\theta)$ is,\n",
        "\n",
        "$$\n",
        "p(D|\\theta) = (\\theta)^h(1-\\theta)^{N-h}\n",
        "$$"
      ],
      "metadata": {
        "id": "6hruGvGPaUuZ"
      }
    },
    {
      "cell_type": "markdown",
      "source": [
        "### Maximum Likelihood Estimation (Analytical solution)"
      ],
      "metadata": {
        "id": "aSlVy7McZVdB"
      }
    },
    {
      "cell_type": "code",
      "source": [
        "theta_range = jnp.linspace(0.01, 0.99, 100)\n",
        "def get_prob(theta):\n",
        "  return tfd.Bernoulli(probs=theta).prob(coin_toss_data).prod()\n",
        "probs = jax.vmap(get_prob)(theta_range)\n",
        "plt.plot(theta_range, probs);\n",
        "plt.scatter([0.8], tfd.Bernoulli(probs=0.8).prob(coin_toss_data).prod(), c='r', s=100, zorder=10, label=\"MLE\");\n",
        "plt.legend();\n",
        "plt.xlabel(r'$\\theta$')\n",
        "plt.ylabel(r\"$p(D|\\theta)$\");"
      ],
      "metadata": {
        "colab": {
          "base_uri": "https://localhost:8080/",
          "height": 308
        },
        "id": "gQeG9wnjdzVe",
        "outputId": "4f9b6571-3a17-4a2d-8ff1-2d26f9d32a53"
      },
      "execution_count": 15,
      "outputs": [
        {
          "output_type": "display_data",
          "data": {
            "text/plain": [
              "<Figure size 432x288 with 1 Axes>"
            ],
            "image/png": "[encoded data removed]"
          },
          "metadata": {}
        }
      ]
    },
    {
      "cell_type": "markdown",
      "source": [
        "We know that the following claim is true for any differentiable function,\n",
        "\n",
        "* $\\theta$ would be optimal at $\\frac{d}{d\\theta}L(D|\\theta)=0$\n",
        "\n",
        "Let us find out optimal $\\theta$:\n",
        "\n",
        "\\begin{align}\n",
        "p(D|\\theta) &= (\\theta)^h(1-\\theta)^{N-h}\\\\\n",
        "\\log p(D|\\theta) &= h\\log(\\theta)+(N-h)\\log(1-\\theta)\\\\\n",
        "\\frac{d}{d\\theta}\\log p(D|\\theta) &= \\frac{h}{\\theta} - \\frac{N-h}{1-\\theta} = 0\\\\\n",
        "\\\\\n",
        "\\text{follows that,}\\\\\n",
        "h(1-\\theta)-(N-h)\\theta &= 0\\\\\n",
        "h - h\\theta - N\\theta + h\\theta &= 0\\\\\n",
        "\\theta_{optimal} &= \\frac{h}{N}\n",
        "\\end{align}"
      ],
      "metadata": {
        "id": "GvgD6H8sarvN"
      }
    },
    {
      "cell_type": "code",
      "source": [
        "N = len(coin_toss_data)\n",
        "h = (coin_toss_data == 1).sum()\n",
        "print(f\"Optimal: {h/N:.2f}\")"
      ],
      "metadata": {
        "colab": {
          "base_uri": "https://localhost:8080/"
        },
        "id": "h6Na5oBUcqkL",
        "outputId": "debd633b-ee91-4d24-c6a4-da85b19e0c4f"
      },
      "execution_count": 16,
      "outputs": [
        {
          "output_type": "stream",
          "name": "stdout",
          "text": [
            "Optimal: 0.80\n"
          ]
        }
      ]
    },
    {
      "cell_type": "markdown",
      "source": [
        "### Question: Is this Optimal a Maxima or Minima?"
      ],
      "metadata": {
        "id": "RICIePh1bYQw"
      }
    },
    {
      "cell_type": "markdown",
      "source": [
        "* $\\theta$ would be maximum if $\\frac{d^2}{d\\theta^2}\\log L(D|\\theta)<0$.\n",
        "\n",
        "\\begin{align}\n",
        "\\frac{d}{d\\theta}\\log p(D|\\theta) &= \\frac{h}{\\theta} - \\frac{N-h}{1-\\theta}\\\\\n",
        "\\frac{d^2}{d\\theta^2}\\log p(D|\\theta) &= -\\frac{h}{\\theta^2}-\\frac{N-h}{(1-\\theta)^2} < 0\n",
        "\\end{align}\n",
        "\n",
        "Double differentiation is negative and thus our optima is the maxima."
      ],
      "metadata": {
        "id": "-vra7u0YbkLj"
      }
    },
    {
      "cell_type": "markdown",
      "source": [
        "### Maximum Likelihood Estimation (Solution via optimization)"
      ],
      "metadata": {
        "id": "zBkHESYicFFf"
      }
    },
    {
      "cell_type": "code",
      "source": [
        "def neg_log_likelihood_fn(theta, data):\n",
        "  likelihood = tfd.Bernoulli(probs=theta)\n",
        "  log_prob = likelihood.log_prob(data)\n",
        "  return -log_prob.sum()"
      ],
      "metadata": {
        "id": "i-T6EsHFZGmm"
      },
      "execution_count": 17,
      "outputs": []
    },
    {
      "cell_type": "code",
      "source": [
        "grad_fn = jax.grad(neg_log_likelihood_fn)\n",
        "theta = 0.1\n",
        "n_iters = 100\n",
        "learning_rate = 0.001\n",
        "\n",
        "losses = []\n",
        "for iteration in range(n_iters):\n",
        "  loss = neg_log_likelihood_fn(theta, coin_toss_data)\n",
        "  losses.append(loss)\n",
        "\n",
        "  grad = grad_fn(theta, coin_toss_data)\n",
        "  theta = theta - learning_rate * grad"
      ],
      "metadata": {
        "id": "MuNesulndry3"
      },
      "execution_count": 18,
      "outputs": []
    },
    {
      "cell_type": "code",
      "source": [
        "plt.plot(losses)\n",
        "plt.xlabel('Iterations')\n",
        "plt.ylabel('Loss');"
      ],
      "metadata": {
        "colab": {
          "base_uri": "https://localhost:8080/",
          "height": 304
        },
        "id": "o37PlvXygKHv",
        "outputId": "9ce6f878-1106-4ce5-e3d2-d9462ff9e3fd"
      },
      "execution_count": 19,
      "outputs": [
        {
          "output_type": "display_data",
          "data": {
            "text/plain": [
              "<Figure size 432x288 with 1 Axes>"
            ],
            "image/png": "[encoded data removed]"
          },
          "metadata": {}
        }
      ]
    },
    {
      "cell_type": "code",
      "source": [
        "theta"
      ],
      "metadata": {
        "colab": {
          "base_uri": "https://localhost:8080/"
        },
        "id": "72TousdEgWuD",
        "outputId": "6b26179b-f40f-4688-82af-e48d0afa02eb"
      },
      "execution_count": 20,
      "outputs": [
        {
          "output_type": "execute_result",
          "data": {
            "text/plain": [
              "DeviceArray(0.79672338, dtype=float64, weak_type=True)"
            ]
          },
          "metadata": {},
          "execution_count": 20
        }
      ]
    },
    {
      "cell_type": "markdown",
      "source": [
        "### Beta distribution"
      ],
      "metadata": {
        "id": "dzy7WXs6i-Vm"
      }
    },
    {
      "cell_type": "markdown",
      "source": [
        "pdf of Beta distribution is defined as,\n",
        "\n",
        "$$\n",
        "p(\\theta|\\alpha, \\beta) = \\frac{\\theta^{\\alpha-1}(1-\\theta)^{\\beta-1}}{B(\\alpha,\\beta)}, \\alpha,\\beta>0\\\\\n",
        "\\text{Where, }B(\\alpha, \\beta) = \\frac{\\Gamma(\\alpha)\\Gamma(\\beta)}{\\Gamma(\\alpha+\\beta)}\\\\\n",
        "\\text{and }\\Gamma(\\alpha) = (\\alpha-1)!\n",
        "$$"
      ],
      "metadata": {
        "id": "ro0G_wLdw5az"
      }
    },
    {
      "cell_type": "code",
      "source": [
        "beta = tfd.Beta(2.0, 2.0)\n",
        "beta.prob(0.4)"
      ],
      "metadata": {
        "colab": {
          "base_uri": "https://localhost:8080/"
        },
        "id": "XxwnXWMFwFAr",
        "outputId": "d604f372-833b-4db6-de7f-c1a8a32af201"
      },
      "execution_count": 21,
      "outputs": [
        {
          "output_type": "execute_result",
          "data": {
            "text/plain": [
              "DeviceArray(1.4400012, dtype=float32)"
            ]
          },
          "metadata": {},
          "execution_count": 21
        }
      ]
    },
    {
      "cell_type": "code",
      "source": [
        "@interact(a=(0, 10, 0.5), b=(0, 10, 0.5))\n",
        "def beta_pdf(a, b):\n",
        "  beta = tfd.Beta(a, b)\n",
        "  theta_range = jnp.linspace(0.01, 0.99, 100)\n",
        "  probs = beta.prob(theta_range)\n",
        "  plt.plot(theta_range, probs)\n",
        "  plt.xlabel(r\"$\\theta$\")\n",
        "  plt.ylabel(r\"$p(\\theta)$\");"
      ],
      "metadata": {
        "colab": {
          "base_uri": "https://localhost:8080/",
          "height": 368,
          "referenced_widgets": [
            "e14afd555546468db0247864ee58b338",
            "43434568f57c4aad847ca9d96efe6acd",
            "fd8ac49bdeb4453d94757cca920ae2fb",
            "e5ca605e75af40a5a38c6c20ec009feb",
            "f2d40922a47f41c4b2892faf8d46045a",
            "7afd9a89b03a44679616369938b93c4c",
            "a77fbd92c2064bd0b695110a13ee277a",
            "6eec479c38a044d7b7455a185e15cf38",
            "1f87f20ae1814beb9dfecf68372b5a8a",
            "6d0918e329624e73b48293b361cab6dd"
          ]
        },
        "id": "okjBj5dWsXL9",
        "outputId": "eeae9e42-6867-4b9e-c402-50f235a30d7e"
      },
      "execution_count": 22,
      "outputs": [
        {
          "output_type": "display_data",
          "data": {
            "text/plain": [
              "interactive(children=(FloatSlider(value=5.0, description='a', max=10.0, step=0.5), FloatSlider(value=5.0, desc…"
            ],
            "application/vnd.jupyter.widget-view+json": {
              "version_major": 2,
              "version_minor": 0,
              "model_id": "e14afd555546468db0247864ee58b338"
            }
          },
          "metadata": {}
        }
      ]
    },
    {
      "cell_type": "markdown",
      "source": [
        "### Coin Toss (Maximum A Posteriori estimation (MAP))\n",
        "\n",
        "\\begin{align}\n",
        "p(\\theta|D)p(\\theta) &= \\theta^h(1-\\theta)^{N-h}\\cdot\\frac{\\theta^{\\alpha-1}(1-\\theta)^{\\beta-1}}{B(\\alpha, \\beta)}\\\\\n",
        "                     &= \\frac{\\theta^{h+\\alpha-1}(1-\\theta)^{N-h+\\beta-1}}{B(\\alpha, \\beta)}\\\\\n",
        "\\log p(\\theta|D)p(\\theta) &= (h+\\alpha-1)\\log(\\theta) + (N-h+\\beta-1)\\log(1-\\theta) - \\log(B(\\alpha, \\beta))\\\\\n",
        "\\\\\n",
        "\\frac{d}{d\\theta} \\log p(\\theta|D)p(\\theta) &= \\frac{h+\\alpha-1}{\\theta} - \\frac{N-h+\\beta-1}{1-\\theta} = 0\\\\\n",
        "\\\\\n",
        "\\theta_{MAP} &= \\frac{h+(\\alpha-1)}{N+(\\alpha-1)+(\\beta-1)}\n",
        "\\end{align}"
      ],
      "metadata": {
        "id": "KaE9fSkXv86E"
      }
    },
    {
      "cell_type": "code",
      "source": [
        "alpha = 1.0\n",
        "beta = 2.0\n",
        "h = (coin_toss_data == 1).sum()\n",
        "N = len(coin_toss_data)\n",
        "\n",
        "theta_map = (h + (alpha - 1)) / (N + (alpha -1) + (beta - 1))\n",
        "theta_map"
      ],
      "metadata": {
        "colab": {
          "base_uri": "https://localhost:8080/"
        },
        "id": "dcN7dY1Kx__Z",
        "outputId": "466916a3-470c-42f3-8e9a-33cb5a45d192"
      },
      "execution_count": 23,
      "outputs": [
        {
          "output_type": "execute_result",
          "data": {
            "text/plain": [
              "DeviceArray(0.72727273, dtype=float64, weak_type=True)"
            ]
          },
          "metadata": {},
          "execution_count": 23
        }
      ]
    },
    {
      "cell_type": "markdown",
      "source": [
        "### MAP (Solution via optimization)"
      ],
      "metadata": {
        "id": "-71Et1wHyf8x"
      }
    },
    {
      "cell_type": "code",
      "source": [
        "def neg_log_joint_fn(theta, data):\n",
        "  prior = tfd.Beta(alpha, beta)\n",
        "  neg_log_prior = -prior.log_prob(theta)\n",
        "  neg_log_likelihood = neg_log_likelihood_fn(theta, data)\n",
        "  return neg_log_prior + neg_log_likelihood"
      ],
      "metadata": {
        "id": "UO0lOUQyyT-B"
      },
      "execution_count": 24,
      "outputs": []
    },
    {
      "cell_type": "code",
      "source": [
        "grad_fn = jax.grad(neg_log_joint_fn)\n",
        "theta = 0.1\n",
        "n_iters = 100\n",
        "learning_rate = 0.001\n",
        "\n",
        "losses = []\n",
        "for iteration in range(n_iters):\n",
        "  loss = neg_log_joint_fn(theta, coin_toss_data)\n",
        "  losses.append(loss)\n",
        "\n",
        "  grad = grad_fn(theta, coin_toss_data)\n",
        "  theta = theta - learning_rate * grad"
      ],
      "metadata": {
        "id": "TI3vMscWzXBF"
      },
      "execution_count": 25,
      "outputs": []
    },
    {
      "cell_type": "code",
      "source": [
        "plt.plot(losses)\n",
        "plt.xlabel('Iterations')\n",
        "plt.ylabel('Loss');"
      ],
      "metadata": {
        "colab": {
          "base_uri": "https://localhost:8080/",
          "height": 304
        },
        "id": "Hy-EoC18zmK8",
        "outputId": "f102d77e-18f1-495c-c80e-21a630824d7e"
      },
      "execution_count": 26,
      "outputs": [
        {
          "output_type": "display_data",
          "data": {
            "text/plain": [
              "<Figure size 432x288 with 1 Axes>"
            ],
            "image/png": "[encoded data removed]"
          },
          "metadata": {}
        }
      ]
    },
    {
      "cell_type": "code",
      "source": [
        "theta"
      ],
      "metadata": {
        "colab": {
          "base_uri": "https://localhost:8080/"
        },
        "id": "e3_nrPVGzmn7",
        "outputId": "27a36f7d-2733-4b28-b33d-7af2e4772568"
      },
      "execution_count": 27,
      "outputs": [
        {
          "output_type": "execute_result",
          "data": {
            "text/plain": [
              "DeviceArray(0.72409419, dtype=float64, weak_type=True)"
            ]
          },
          "metadata": {},
          "execution_count": 27
        }
      ]
    },
    {
      "cell_type": "markdown",
      "source": [
        "### Coin toss posterior"
      ],
      "metadata": {
        "id": "6poDGqCK0TGp"
      }
    },
    {
      "cell_type": "markdown",
      "source": [
        "#### Derive the evidence"
      ],
      "metadata": {
        "id": "jwq1t6YV4PVI"
      }
    },
    {
      "cell_type": "markdown",
      "source": [
        "\\begin{align}\n",
        "p(D) &= \\int\\limits_{0}^{1}p(D|\\theta)p(\\theta)d\\theta\\\\\n",
        "     &= \\int\\limits_{0}^{1}(\\theta)^h(1-\\theta)^{N-h}\\frac{\\theta^{\\alpha-1}(1-\\theta)^{\\beta-1}}{B(\\alpha,\\beta)}d\\theta\\\\\n",
        "     &= \\frac{1}{B(\\alpha,\\beta)}\\int\\limits_{0}^{1}(\\theta)^{h+\\alpha-1}(1-\\theta)^{N-h+\\beta-1}\\\\\n",
        "     &= \\frac{1}{B(\\alpha,\\beta)}\\frac{(h+\\alpha-1)!(N-h+\\beta-1)!}{(N+\\alpha+\\beta-1)!}\n",
        "\\end{align}"
      ],
      "metadata": {
        "id": "OoeQ2zGc4Z9x"
      }
    },
    {
      "cell_type": "markdown",
      "source": [
        "#### Derive posterior"
      ],
      "metadata": {
        "id": "5VJVmvIS4exK"
      }
    },
    {
      "cell_type": "markdown",
      "source": [
        "\\begin{align}\n",
        "p(\\theta|D) = \\frac{p(D|\\theta)}{p(D)}p(\\theta)&=B(\\alpha,\\beta)\\frac{(N+\\alpha+\\beta-1)!}{(h+\\alpha-1)!(N-h+\\beta-1)!}\\frac{\\theta^{h+\\alpha-1}(1-\\theta)^{N-h+\\beta-1}}{B(\\alpha, \\beta)}\\\\\n",
        "\\\\\n",
        "&= Beta(h+\\alpha, N-h+\\beta)\n",
        "\\end{align}"
      ],
      "metadata": {
        "id": "3kigPqbK4hJk"
      }
    },
    {
      "cell_type": "markdown",
      "source": [
        "## Linear regression"
      ],
      "metadata": {
        "id": "7dkxhNh44_FO"
      }
    },
    {
      "cell_type": "markdown",
      "source": [
        "### Generative process"
      ],
      "metadata": {
        "id": "VErI-dOR5Upy"
      }
    },
    {
      "cell_type": "code",
      "source": [
        "x = jnp.linspace(-1, 1, 10)\n",
        "real_slope = 3\n",
        "real_intercept = 4\n",
        "f = real_slope * x + real_intercept\n",
        "noise_scale = 1.0\n",
        "likelihood_distribution = tfd.Normal(loc=f, scale=noise_scale)"
      ],
      "metadata": {
        "id": "YKxU3PmU5T6W"
      },
      "execution_count": 28,
      "outputs": []
    },
    {
      "cell_type": "code",
      "source": [
        "@interact(seed=(0,10))\n",
        "def generate_data(seed):\n",
        "  seed = jax.random.PRNGKey(seed)\n",
        "  y = likelihood_distribution.sample(seed=seed)\n",
        "  plt.scatter(x, y)\n",
        "  plt.xlabel('x')\n",
        "  plt.ylabel('y');\n",
        "  plt.ylim(0,8);"
      ],
      "metadata": {
        "colab": {
          "base_uri": "https://localhost:8080/",
          "height": 341,
          "referenced_widgets": [
            "0a34e4b51efc48c0b3f39bfb3cf6580a",
            "19a46bee177d4d0697595411bc34d7be",
            "0ba2e538883347928a02ce3b2323d96f",
            "7ed32dc8d1f540359b3d69eff6852222",
            "bf72499e22074f1a92a3841cfca76a75",
            "45e57f1d01614780b005b0153635444f",
            "c1ace18597484156ab99660bcb5dd7c8"
          ]
        },
        "id": "XLFaG5V66Pqi",
        "outputId": "846835d1-2394-41d8-e53f-ea87c83743af"
      },
      "execution_count": 29,
      "outputs": [
        {
          "output_type": "display_data",
          "data": {
            "text/plain": [
              "interactive(children=(IntSlider(value=5, description='seed', max=10), Output()), _dom_classes=('widget-interac…"
            ],
            "application/vnd.jupyter.widget-view+json": {
              "version_major": 2,
              "version_minor": 0,
              "model_id": "0a34e4b51efc48c0b3f39bfb3cf6580a"
            }
          },
          "metadata": {}
        }
      ]
    },
    {
      "cell_type": "markdown",
      "source": [
        "### Generate data"
      ],
      "metadata": {
        "id": "31afY_SWM8uM"
      }
    },
    {
      "cell_type": "code",
      "source": [
        "seed = jax.random.PRNGKey(5)\n",
        "y = likelihood_distribution.sample(seed=seed)"
      ],
      "metadata": {
        "id": "F7dowyXZM-y6"
      },
      "execution_count": 30,
      "outputs": []
    },
    {
      "cell_type": "markdown",
      "source": [
        "### Maximum Likelihood Estimation (Analytic solution)"
      ],
      "metadata": {
        "id": "em3olBJ_9Q8m"
      }
    },
    {
      "cell_type": "markdown",
      "source": [
        "\\begin{equation}\n",
        "p(\\mathbf{y}|X, \\boldsymbol{\\theta}) = \\frac{1}{\\sqrt{(2\\pi)^n |\\sigma^2I|}}\\exp \\left( (\\mathbf{y} - X\\boldsymbol{\\theta})^T(\\sigma^2I)^{-1}(\\mathbf{y} - X\\boldsymbol{\\theta}) \\right)\n",
        "\\end{equation}\n",
        "\n",
        "Simplifying the above equation:\n",
        "\n",
        "\\begin{equation}\n",
        "p(\\mathbf{y}|X, \\boldsymbol{\\theta}) = \\frac{1}{(2\\pi\\sigma^2)^{\\frac{n}{2}}}\\exp \\left( \\sigma^{-2}(\\mathbf{y} - X\\boldsymbol{\\theta})^T(\\mathbf{y} - X\\boldsymbol{\\theta}) \\right)\n",
        "\\end{equation}\n",
        "\n",
        "Taking log to simplify further:\n",
        "\n",
        "\\begin{align}\n",
        "\\log p(\\mathbf{y}|X, \\boldsymbol{\\theta}) &= (\\mathbf{y} - X\\boldsymbol{\\theta})^T(\\mathbf{y} - X\\boldsymbol{\\theta}) + \\log \\sigma^{-2} + \\log \\frac{1}{(2\\pi\\sigma^2)^{\\frac{n}{2}}}\\\\\n",
        "\\frac{d}{d\\boldsymbol{\\theta}} \\log p(\\mathbf{y}|X, \\boldsymbol{\\theta}) &= \\frac{d}{d\\boldsymbol{\\theta}}(\\mathbf{y} - X\\boldsymbol{\\theta})^T(\\mathbf{y} - X\\boldsymbol{\\theta})\\\\\n",
        "&= \\frac{d}{d\\boldsymbol{\\theta}}(\\mathbf{y}^T - \\boldsymbol{\\theta}^TX^T)(\\mathbf{y} - X\\boldsymbol{\\theta})\\\\\n",
        "&= \\frac{d}{d\\boldsymbol{\\theta}} \\left[ \\mathbf{y}^T\\mathbf{y} - \\mathbf{y}^TX\\boldsymbol{\\theta} - \\boldsymbol{\\theta}^TX^T\\mathbf{y} + \\boldsymbol{\\theta}^TX^TX\\boldsymbol{\\theta}\\right]\\\\\n",
        "&= -(\\mathbf{y}^TX)^T - X^T\\mathbf{y} + 2X^TX\\boldsymbol{\\theta} = 0\\\\\n",
        "\\therefore X^TX\\boldsymbol{\\theta} &= X^T\\mathbf{y}\\\\\n",
        "\\therefore  \\boldsymbol{\\theta}_{MLE} &= (X^TX)^{-1}X^T\\mathbf{y}\n",
        "\\end{align}\n",
        "\n",
        "We used some of the formulas from [this cheatsheet](http://www.gatsby.ucl.ac.uk/teaching/courses/sntn/sntn-2017/resources/Matrix_derivatives_cribsheet.pdf) but they can also be derived from scratch."
      ],
      "metadata": {
        "id": "Q_OOaelb9ZVZ"
      }
    },
    {
      "cell_type": "code",
      "source": [
        "x_extra = jnp.vstack([jnp.ones(len(x)), x]).T\n",
        "mle_intercept, mle_slope = jnp.linalg.inv(x_extra.T@x_extra)@x_extra.T@y\n",
        "mle_slope, mle_intercept"
      ],
      "metadata": {
        "colab": {
          "base_uri": "https://localhost:8080/"
        },
        "id": "ZtIXGsji-NF2",
        "outputId": "dd9fc497-2c0b-4f99-b3b9-3f5059179bb1"
      },
      "execution_count": 31,
      "outputs": [
        {
          "output_type": "execute_result",
          "data": {
            "text/plain": [
              "(DeviceArray(3.47665753, dtype=float64), DeviceArray(4.2940263, dtype=float64))"
            ]
          },
          "metadata": {},
          "execution_count": 31
        }
      ]
    },
    {
      "cell_type": "markdown",
      "source": [
        "### Maximum Likelihood Estimation (Solution by optimization)"
      ],
      "metadata": {
        "id": "E4sEarS66fOF"
      }
    },
    {
      "cell_type": "code",
      "source": [
        "def neg_log_likelihood_fn(slope, intercept):\n",
        "  f = slope * x + intercept\n",
        "  likelihood = tfd.Normal(loc=f, scale=noise_scale)\n",
        "  return -likelihood.log_prob(y).sum()"
      ],
      "metadata": {
        "id": "DYTqOJgs6YKG"
      },
      "execution_count": 32,
      "outputs": []
    },
    {
      "cell_type": "code",
      "source": [
        "grad_fn = jax.grad(neg_log_likelihood_fn, argnums=(0, 1))\n",
        "slope = 0.0\n",
        "intercept = 0.0\n",
        "n_iters = 100\n",
        "learning_rate = 0.005\n",
        "\n",
        "losses = []\n",
        "for iteration in range(n_iters):\n",
        "  loss = neg_log_likelihood_fn(slope, intercept)\n",
        "  losses.append(loss)\n",
        "\n",
        "  grads = grad_fn(slope, intercept)\n",
        "  slope = slope - learning_rate * grads[0]\n",
        "  intercept = intercept - learning_rate * grads[1]"
      ],
      "metadata": {
        "id": "PeA5UwV7yODY"
      },
      "execution_count": 33,
      "outputs": []
    },
    {
      "cell_type": "code",
      "source": [
        "plt.plot(losses)\n",
        "plt.xlabel('Iterations')\n",
        "plt.ylabel('Loss');"
      ],
      "metadata": {
        "colab": {
          "base_uri": "https://localhost:8080/",
          "height": 304
        },
        "id": "b_dXjB6hyY3X",
        "outputId": "85cf1447-926f-48ea-b056-d739d742379e"
      },
      "execution_count": 34,
      "outputs": [
        {
          "output_type": "display_data",
          "data": {
            "text/plain": [
              "<Figure size 432x288 with 1 Axes>"
            ],
            "image/png": "[encoded data removed]"
          },
          "metadata": {}
        }
      ]
    },
    {
      "cell_type": "code",
      "source": [
        "slope, intercept"
      ],
      "metadata": {
        "colab": {
          "base_uri": "https://localhost:8080/"
        },
        "id": "azczfkDeypI-",
        "outputId": "c737a9c8-bf7c-424b-b7af-5299891cea52"
      },
      "execution_count": 35,
      "outputs": [
        {
          "output_type": "execute_result",
          "data": {
            "text/plain": [
              "(DeviceArray(3.03268803, dtype=float64, weak_type=True),\n",
              " DeviceArray(4.2686034, dtype=float64, weak_type=True))"
            ]
          },
          "metadata": {},
          "execution_count": 35
        }
      ]
    },
    {
      "cell_type": "markdown",
      "source": [
        "### Animation of NLL v/s fit"
      ],
      "metadata": {
        "id": "mTCbUqDMRFVP"
      }
    },
    {
      "cell_type": "code",
      "source": [
        "#@title\n",
        "slopes = jnp.linspace(-1.5,7.5,100)\n",
        "intercepts = jnp.linspace(-0.5,8.5,100)\n",
        "slopes, intercepts = jnp.meshgrid(slopes, intercepts)\n",
        "vectorized_nll_fn = jax.vmap(jax.vmap(neg_log_likelihood_fn))\n",
        "nlls = vectorized_nll_fn(slopes, intercepts)\n",
        "\n",
        "@interact(intercept=(0.0, 8.0, 0.5), slope=(-1.0, 7.0, 0.5))\n",
        "def plot_neg_log_likelihood_and_fit(intercept=0.0, slope=0.0):\n",
        "  fig, ax = plt.subplots(1, 2, figsize=(12,4))\n",
        "  nll = neg_log_likelihood_fn(slope, intercept)\n",
        "\n",
        "  ax[0].scatter(x, y, label='data');\n",
        "  ax[0].plot(x, slope*x+intercept, label=\"fit\");\n",
        "  ax[0].legend(loc='upper left');\n",
        "  ax[0].set_xlabel('x');\n",
        "  ax[0].set_ylabel('y');\n",
        "\n",
        "  cl = ax[1].contourf(slopes, intercepts, nlls, levels=10)\n",
        "  fig.colorbar(cl)\n",
        "  ax[1].scatter(slope, intercept, label=\"NLL\", zorder=10, c='r', s=100)\n",
        "  ax[1].legend(loc='upper left');\n",
        "  ax[1].set_xlabel('slope');\n",
        "  ax[1].set_ylabel('intercept');"
      ],
      "metadata": {
        "colab": {
          "base_uri": "https://localhost:8080/",
          "height": 373,
          "referenced_widgets": [
            "79ff7a065a2d4ee6b37c5203e7d86682",
            "b576d79d302745e4b7cc2ac9040ca684",
            "561c671fe65d41c39847f9929c26c8b4",
            "99cabe05254748be9b61f0e9e32a7b57",
            "fb100850dd184feda3c878a8081a7d3a",
            "b030e01630a04443b54026ed343403fd",
            "bcec50b961464285b82dbe837f521355",
            "0fc0f1a8e2bd4080bab36116529fa958",
            "334b189018a34b0e840175056da3dfce",
            "419e85f72f4448e2a5abd2181c4b05ec"
          ]
        },
        "id": "UvsZb8h7CAuW",
        "outputId": "fa3456b9-5a44-41f7-b937-bc77a1706c96"
      },
      "execution_count": 36,
      "outputs": [
        {
          "output_type": "display_data",
          "data": {
            "text/plain": [
              "interactive(children=(FloatSlider(value=0.0, description='intercept', max=8.0, step=0.5), FloatSlider(value=0.…"
            ],
            "application/vnd.jupyter.widget-view+json": {
              "version_major": 2,
              "version_minor": 0,
              "model_id": "79ff7a065a2d4ee6b37c5203e7d86682"
            }
          },
          "metadata": {}
        }
      ]
    },
    {
      "cell_type": "markdown",
      "source": [
        "### Prior"
      ],
      "metadata": {
        "id": "5s8ondt7RO2q"
      }
    },
    {
      "cell_type": "code",
      "source": [
        "#@title\n",
        "prior_slope_dist = tfd.Normal(1, 0.5)\n",
        "prior_intercept_dist = tfd.Normal(0, 0.5)\n",
        "\n",
        "def prior_prob_fn(slope, intercept):\n",
        "  prior_slope_prob = prior_slope_dist.prob(slope)\n",
        "  prior_intercept_prob = prior_intercept_dist.prob(intercept)\n",
        "  return prior_slope_prob * prior_intercept_prob\n",
        "\n",
        "vectorized_prior_prob_fn = jax.vmap(jax.vmap(prior_prob_fn))\n",
        "prior_probs = vectorized_prior_prob_fn(slopes, intercepts)\n",
        "\n",
        "mappable = plt.contourf(slopes, intercepts, prior_probs, levels=10)\n",
        "plt.colorbar(mappable);\n",
        "plt.xlabel('slope')\n",
        "plt.ylabel('intercept');"
      ],
      "metadata": {
        "colab": {
          "base_uri": "https://localhost:8080/",
          "height": 304
        },
        "id": "OsDdSg_qJ7Pz",
        "outputId": "79d4b26b-260c-4e50-c74d-7f9026a4a9af"
      },
      "execution_count": 37,
      "outputs": [
        {
          "output_type": "display_data",
          "data": {
            "text/plain": [
              "<Figure size 432x288 with 2 Axes>"
            ],
            "image/png": "[encoded data removed]"
          },
          "metadata": {}
        }
      ]
    },
    {
      "cell_type": "markdown",
      "source": [
        "### Find MAP with optimization"
      ],
      "metadata": {
        "id": "DhxGfv5GVnuj"
      }
    },
    {
      "cell_type": "code",
      "source": [
        "def neg_log_joint_fn(slope, intercept):\n",
        "  neg_log_prior = -prior_slope_dist.log_prob(slope) - prior_intercept_dist.log_prob(intercept)\n",
        "  neg_log_likelihood = neg_log_likelihood_fn(slope, intercept)\n",
        "  return neg_log_prior + neg_log_likelihood"
      ],
      "metadata": {
        "id": "uQevh30sVqoC"
      },
      "execution_count": 38,
      "outputs": []
    },
    {
      "cell_type": "code",
      "source": [
        "grad_fn = jax.grad(neg_log_joint_fn, argnums=(0, 1))\n",
        "slope = 0.0\n",
        "intercept = 0.0\n",
        "n_iters = 200\n",
        "learning_rate = 0.001\n",
        "\n",
        "losses = []\n",
        "for iteration in range(n_iters):\n",
        "  loss = neg_log_joint_fn(slope, intercept)\n",
        "  losses.append(loss)\n",
        "\n",
        "  grads = grad_fn(slope, intercept)\n",
        "  slope = slope - learning_rate * grads[0]\n",
        "  intercept = intercept - learning_rate * grads[1]"
      ],
      "metadata": {
        "id": "wEDmnXNUWFqp"
      },
      "execution_count": 39,
      "outputs": []
    },
    {
      "cell_type": "code",
      "source": [
        "plt.plot(losses)\n",
        "plt.xlabel('Iterations')\n",
        "plt.ylabel('Loss');"
      ],
      "metadata": {
        "colab": {
          "base_uri": "https://localhost:8080/",
          "height": 304
        },
        "id": "jtvA0cccWLID",
        "outputId": "c9e23e69-0a1a-43d2-ed6c-1c81a2d0efc8"
      },
      "execution_count": 40,
      "outputs": [
        {
          "output_type": "display_data",
          "data": {
            "text/plain": [
              "<Figure size 432x288 with 1 Axes>"
            ],
            "image/png": "[encoded data removed]"
          },
          "metadata": {}
        }
      ]
    },
    {
      "cell_type": "code",
      "source": [
        "slope, intercept"
      ],
      "metadata": {
        "colab": {
          "base_uri": "https://localhost:8080/"
        },
        "id": "ZjCp6IGYWNno",
        "outputId": "79cd982f-1cef-477a-c868-dec5b9b08a1c"
      },
      "execution_count": 41,
      "outputs": [
        {
          "output_type": "execute_result",
          "data": {
            "text/plain": [
              "(DeviceArray(1.8050881, dtype=float64, weak_type=True),\n",
              " DeviceArray(2.88430125, dtype=float64, weak_type=True))"
            ]
          },
          "metadata": {},
          "execution_count": 41
        }
      ]
    },
    {
      "cell_type": "markdown",
      "source": [
        "## MAP v/s MLE on polynomial regression\n"
      ],
      "metadata": {
        "id": "skqEMHKtbEeN"
      }
    },
    {
      "cell_type": "code",
      "source": [
        "from sklearn.preprocessing import PolynomialFeatures"
      ],
      "metadata": {
        "id": "9YDeRDGbopaK"
      },
      "execution_count": 42,
      "outputs": []
    },
    {
      "cell_type": "code",
      "source": [
        "poly = PolynomialFeatures(degree=11)\n",
        "x_poly = poly.fit_transform(x.reshape(-1,1))\n",
        "d = x_poly.shape[1]\n",
        "prior_poly = tfd.Normal(loc=jnp.zeros(d), scale=0.3*jnp.ones(d))"
      ],
      "metadata": {
        "id": "iak-eQkfbL5C"
      },
      "execution_count": 58,
      "outputs": []
    },
    {
      "cell_type": "code",
      "source": [
        "def neg_log_likelihood_fn(theta):\n",
        "  f = x_poly@theta\n",
        "  noise_scale = 0.5\n",
        "  likelihood = tfd.Normal(f, scale=noise_scale)\n",
        "  return -(likelihood.log_prob(y).sum())\n",
        "\n",
        "def neg_log_joint_fn(theta):\n",
        "  neg_log_prior = -(prior_poly.log_prob(theta).sum())\n",
        "  neg_log_likelihood = neg_log_likelihood_fn(theta)\n",
        "  return neg_log_likelihood + neg_log_prior"
      ],
      "metadata": {
        "id": "TGOMRkunmrVQ"
      },
      "execution_count": 59,
      "outputs": []
    },
    {
      "cell_type": "code",
      "source": [
        "mle_value_and_grad_fn = jax.value_and_grad(neg_log_likelihood_fn)\n",
        "map_value_and_grad_fn = jax.value_and_grad(neg_log_joint_fn)\n",
        "theta_mle = jnp.ones(x_poly.shape[1])\n",
        "theta_map = jnp.ones(x_poly.shape[1])\n",
        "n_iters = 200\n",
        "learning_rate = 0.001\n",
        "\n",
        "mle_losses = []\n",
        "map_losses = []\n",
        "for iteration in range(n_iters):\n",
        "  mle_loss, mle_grads = mle_value_and_grad_fn(theta_mle)\n",
        "  map_loss, map_grads = map_value_and_grad_fn(theta_map)\n",
        "  mle_losses.append(mle_loss)\n",
        "  map_losses.append(map_loss)\n",
        "  theta_mle = theta_mle - learning_rate * mle_grads\n",
        "  theta_map = theta_map - learning_rate * map_grads"
      ],
      "metadata": {
        "id": "BbiRXXHaptgx"
      },
      "execution_count": 60,
      "outputs": []
    },
    {
      "cell_type": "code",
      "source": [
        "plt.plot(mle_losses, label='MLE loss')\n",
        "plt.plot(map_losses, label='MAP loss')\n",
        "plt.xlabel('Iterations')\n",
        "plt.legend();"
      ],
      "metadata": {
        "colab": {
          "base_uri": "https://localhost:8080/",
          "height": 304
        },
        "id": "90qDAF7BqUnv",
        "outputId": "f26b3f3e-62ab-42ad-93dd-ea0a22724fb8"
      },
      "execution_count": 61,
      "outputs": [
        {
          "output_type": "display_data",
          "data": {
            "text/plain": [
              "<Figure size 432x288 with 1 Axes>"
            ],
            "image/png": "[encoded data removed]"
          },
          "metadata": {}
        }
      ]
    },
    {
      "cell_type": "code",
      "source": [
        "plt.scatter(x, y)\n",
        "plt.plot(x, x_poly@theta_mle, label='MLE fit');\n",
        "plt.plot(x, x_poly@theta_map, label='MAP fit');\n",
        "plt.legend();"
      ],
      "metadata": {
        "colab": {
          "base_uri": "https://localhost:8080/",
          "height": 282
        },
        "id": "r1vsXWt5qeuM",
        "outputId": "a4aa1c05-04ca-4483-f1f1-60a331d27c3c"
      },
      "execution_count": 62,
      "outputs": [
        {
          "output_type": "display_data",
          "data": {
            "text/plain": [
              "<Figure size 432x288 with 1 Axes>"
            ],
            "image/png": "[encoded data removed]"
          },
          "metadata": {}
        }
      ]
    },
    {
      "cell_type": "code",
      "source": [
        "jnp.linalg.norm(theta_mle)"
      ],
      "metadata": {
        "colab": {
          "base_uri": "https://localhost:8080/"
        },
        "id": "qdPF54-Watfz",
        "outputId": "66a9231b-0eec-4f5a-bea1-4b05e611d3dc"
      },
      "execution_count": 66,
      "outputs": [
        {
          "output_type": "execute_result",
          "data": {
            "text/plain": [
              "DeviceArray(4.80030368, dtype=float64)"
            ]
          },
          "metadata": {},
          "execution_count": 66
        }
      ]
    },
    {
      "cell_type": "code",
      "source": [
        "jnp.linalg.norm(theta_map)"
      ],
      "metadata": {
        "colab": {
          "base_uri": "https://localhost:8080/"
        },
        "id": "TMKDOll-baJU",
        "outputId": "beffba60-246f-46b2-9964-c7a99f23c749"
      },
      "execution_count": 67,
      "outputs": [
        {
          "output_type": "execute_result",
          "data": {
            "text/plain": [
              "DeviceArray(3.54093073, dtype=float64)"
            ]
          },
          "metadata": {},
          "execution_count": 67
        }
      ]
    }
  ]
}