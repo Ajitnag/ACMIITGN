{
  "nbformat": 4,
  "nbformat_minor": 0,
  "metadata": {
    "colab": {
      "name": "acm-ikdd-summer-school-model_validation.ipynb",
      "provenance": []
    },
    "kernelspec": {
      "name": "python3",
      "display_name": "Python 3"
    },
    "language_info": {
      "name": "python"
    }
  },
  "cells": [
    {
      "cell_type": "markdown",
      "source": [
        "##Importing the libraries"
      ],
      "metadata": {
        "id": "Uc9719hSRvSa"
      }
    },
    {
      "cell_type": "code",
      "execution_count": 1,
      "metadata": {
        "id": "sD0IneQfxzbe"
      },
      "outputs": [],
      "source": [
        "from sklearn.datasets import load_breast_cancer\n",
        "from sklearn.linear_model import LogisticRegression\n",
        "from sklearn.model_selection import train_test_split\n",
        "from sklearn.metrics import confusion_matrix, classification_report\n",
        "from matplotlib import pyplot as plt\n",
        "from sklearn.metrics import roc_curve, auc\n",
        "from sklearn import preprocessing\n",
        "import seaborn as sns\n",
        "import pandas as pd"
      ]
    },
    {
      "cell_type": "markdown",
      "source": [
        "##Preparing the dataset"
      ],
      "metadata": {
        "id": "agbmUgZNR0xk"
      }
    },
    {
      "cell_type": "code",
      "source": [
        "X,Y = load_breast_cancer(return_X_y=True)\n",
        "\n",
        "X_train, X_test, Y_train, Y_test = train_test_split(X, Y, test_size = 0.2, random_state = 5)\n",
        "\n",
        "print(X.shape)\n",
        "print(Y.shape)\n",
        "\n",
        "ss = preprocessing.StandardScaler()\n",
        "\n",
        "ss.fit(X_train) # normalizing the features\n",
        "X_train_scaled = ss.transform(X_train) # normalizing the features\n",
        "X_test_scaled = ss.transform(X_test) # normalizing the features\n",
        "\n",
        "\n",
        "# X_train_scaled = preprocessing.StandardScaler().fit(X_train)\n",
        "# X_train.transform(X_train)\n",
        "# X_test_scaled = preprocessing.StandardScaler().transform(X_test)\n",
        "\n",
        "\n",
        "print(X_train.shape)\n",
        "print(X_test.shape)"
      ],
      "metadata": {
        "colab": {
          "base_uri": "https://localhost:8080/"
        },
        "id": "De3eI6KXAasN",
        "outputId": "daf946fe-19b1-4d45-ee9b-eaf3409f00ad"
      },
      "execution_count": 3,
      "outputs": [
        {
          "output_type": "stream",
          "name": "stdout",
          "text": [
            "(569, 30)\n",
            "(569,)\n",
            "(455, 30)\n",
            "(114, 30)\n"
          ]
        }
      ]
    },
    {
      "cell_type": "markdown",
      "source": [
        "##Training the classifier"
      ],
      "metadata": {
        "id": "ejGoJ50NR6qU"
      }
    },
    {
      "cell_type": "code",
      "source": [
        "clf = LogisticRegression(random_state = 5, max_iter = 500, solver = 'liblinear').fit(X_train_scaled,Y_train)\n"
      ],
      "metadata": {
        "id": "Y1jC5amHBvk9"
      },
      "execution_count": 4,
      "outputs": []
    },
    {
      "cell_type": "markdown",
      "source": [
        "##Inference"
      ],
      "metadata": {
        "id": "sCBEyrp6R9mx"
      }
    },
    {
      "cell_type": "code",
      "source": [
        "Y_hat = clf.predict(X_test_scaled)\n",
        "Y_score = clf.decision_function(X_test_scaled)\n",
        "\n",
        "# print(clf.score(X_test_scaled, Y_test))"
      ],
      "metadata": {
        "id": "pJBe2OGgFN0V"
      },
      "execution_count": 5,
      "outputs": []
    },
    {
      "cell_type": "markdown",
      "source": [
        "## Plotting the Area under ROC"
      ],
      "metadata": {
        "id": "XlJRgdyFSDoO"
      }
    },
    {
      "cell_type": "code",
      "source": [
        "def plot_auroc(Y_test, Y_hat):\n",
        "  fpr, tpr, threshold = roc_curve(Y_test, Y_score)\n",
        "\n",
        "  roc_auc = auc(fpr, tpr)\n",
        "  # print(fpr, tpr, threshold)\n",
        "\n",
        "  plt.figure()\n",
        "  lw = 2\n",
        "  plt.plot(\n",
        "      fpr,\n",
        "      tpr,\n",
        "      color=\"darkorange\",\n",
        "      lw=lw,\n",
        "      label=\"ROC curve (area = %0.2f)\" % roc_auc,\n",
        "  )\n",
        "  plt.plot([0, 1], [0, 1], color=\"navy\", lw=lw, linestyle=\"--\")\n",
        "  plt.xlim([0.0, 1.0])\n",
        "  plt.ylim([0.0, 1.05])\n",
        "  plt.xlabel(\"False Positive Rate\")\n",
        "  plt.ylabel(\"True Positive Rate\")\n",
        "  plt.title(\"Receiver operating characteristic\")\n",
        "  plt.legend(loc=\"lower right\")\n",
        "  plt.show()\n",
        "\n",
        "\n",
        "plot_auroc(Y_test, Y_hat)"
      ],
      "metadata": {
        "colab": {
          "base_uri": "https://localhost:8080/",
          "height": 295
        },
        "id": "Qr5oUZmmHu_w",
        "outputId": "d75aa089-42e0-416e-ed81-2343f3a10668"
      },
      "execution_count": 6,
      "outputs": [
        {
          "output_type": "display_data",
          "data": {
            "text/plain": [
              "<Figure size 432x288 with 1 Axes>"
            ],
            "image/png": "[encoded data removed]"
          },
          "metadata": {
            "needs_background": "light"
          }
        }
      ]
    },
    {
      "cell_type": "markdown",
      "source": [
        "##Plotting the confusion matrix"
      ],
      "metadata": {
        "id": "kscSrdQcSIV0"
      }
    },
    {
      "cell_type": "code",
      "source": [
        "# conf_mat = confusion_matrix(Y_test, Y_hat)\n",
        "# print(conf_mat)\n",
        "\n",
        "\n",
        "print(\"Classification Report : \\n{}\".format(classification_report(Y_test, Y_hat,\\\n",
        "                                                                target_names = ['Malignant', 'Benign'])))\n",
        "\n",
        "def plot_confusion_matrix(y_test, y_hat):\n",
        "  cm = confusion_matrix(y_test, y_hat)\n",
        "  ax = plt.subplot()\n",
        "  sns.heatmap(cm, annot = True, fmt = 'g', ax = ax, cmap = 'Blues', linewidth=1)\n",
        "  ax.set_xlabel('True Labels')\n",
        "  ax.set_ylabel('Predicted Labels')\n",
        "  ax.set_title('Confusion Matrix')\n",
        "  ax.xaxis.set_ticklabels(['Malignant', 'Benign'], rotation=45, horizontalalignment='right')\n",
        "  ax.yaxis.set_ticklabels(['Malignant', 'Benign'], rotation=45, horizontalalignment='right')\n",
        "\n",
        "\n",
        "plot_confusion_matrix(Y_test, Y_hat)\n"
      ],
      "metadata": {
        "colab": {
          "base_uri": "https://localhost:8080/",
          "height": 502
        },
        "id": "tSlHX695MXrm",
        "outputId": "f6806aa2-2d48-4daa-8053-44ee1e9cadf9"
      },
      "execution_count": 7,
      "outputs": [
        {
          "output_type": "stream",
          "name": "stdout",
          "text": [
            "Classification Report : \n",
            "              precision    recall  f1-score   support\n",
            "\n",
            "   Malignant       0.98      0.96      0.97        48\n",
            "      Benign       0.97      0.98      0.98        66\n",
            "\n",
            "    accuracy                           0.97       114\n",
            "   macro avg       0.97      0.97      0.97       114\n",
            "weighted avg       0.97      0.97      0.97       114\n",
            "\n"
          ]
        },
        {
          "output_type": "display_data",
          "data": {
            "text/plain": [
              "<Figure size 432x288 with 2 Axes>"
            ],
            "image/png": "[encoded data removed]"
          },
          "metadata": {
            "needs_background": "light"
          }
        }
      ]
    }
  ]
}